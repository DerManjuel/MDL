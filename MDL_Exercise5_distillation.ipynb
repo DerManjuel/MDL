{
  "cells": [
    {
      "attachments": {},
      "cell_type": "markdown",
      "metadata": {
        "colab_type": "text",
        "id": "view-in-github"
      },
      "source": [
        "<a href=\"https://colab.research.google.com/github/DerManjuel/MDL/blob/main/MDL_Exercise5_distillation.ipynb\" target=\"_parent\"><img src=\"https://colab.research.google.com/assets/colab-badge.svg\" alt=\"Open In Colab\"/></a>"
      ]
    },
    {
      "attachments": {},
      "cell_type": "markdown",
      "metadata": {
        "id": "2QN-sTuocjS_"
      },
      "source": [
        "# Medical Deep Learning\n",
        "## Exercise 5: Model Distillation & Ternary Nets\n",
        "\n",
        "The goal of this exercise is to implement methods that allow to compress deep learning models via model distillation and ternary weights. This enables the use of deep learning in medicine due to its real-time ability and implementation on weaker mobile devices."
      ]
    },
    {
      "cell_type": "code",
      "execution_count": 1,
      "metadata": {
        "colab": {
          "base_uri": "https://localhost:8080/"
        },
        "id": "IK234fJ1iL37",
        "outputId": "785ace3b-2476-4e03-9e3d-966839e552cc"
      },
      "outputs": [
        {
          "name": "stdout",
          "output_type": "stream",
          "text": [
            "mps\n"
          ]
        }
      ],
      "source": [
        "import torch\n",
        "# Set the device\n",
        "if torch.backends.mps.is_available():\n",
        "    device = \"mps\"\n",
        "else:\n",
        "    device = \"cuda\"\n",
        "print(device)"
      ]
    },
    {
      "cell_type": "code",
      "execution_count": 3,
      "metadata": {
        "colab": {
          "base_uri": "https://localhost:8080/"
        },
        "id": "sRUWE-KitK2d",
        "outputId": "b9826547-6b86-4a8e-8098-87a7e7bcf538"
      },
      "outputs": [],
      "source": [
        "#run pip install for pytorch flop counter before first use\n",
        "#!pip install onnx wget\n",
        "#!pip install --upgrade git+https://github.com/Lyken17/pytorch-OpCounter.git\n",
        "\n",
        "import torchvision\n",
        "import torch.nn as nn\n",
        "import torch.optim as optim\n",
        "import scipy.io\n",
        "import matplotlib.pyplot as plt\n",
        "import numpy as np\n",
        "import time\n",
        "import shutil,gzip\n",
        "#import wget\n",
        "\n",
        "#some functions to count unique parameters and sparsity are provided\n",
        "def countParameters(net):\n",
        "    model_parameters = filter(lambda p: p.requires_grad, net.parameters())\n",
        "    params = sum([p.numel() for p in model_parameters])\n",
        "    return params\n",
        "\n",
        "def countUnique(net):\n",
        "    unique = 0\n",
        "    for m in net.modules():\n",
        "        if(isinstance(m,nn.Conv2d)):\n",
        "            unique += len(np.unique(m.weight.data.cpu().flatten().numpy()))\n",
        "    return unique\n",
        "    #print('#unique',unique)\n",
        "\n",
        "def countSparsity(net):\n",
        "    count_nonzero = 0; count_zero = 0\n",
        "    for m in net.modules():\n",
        "        if(isinstance(m, nn.Conv2d)):\n",
        "            count_nonzero += torch.sum((m.weight.data!=0).float())\n",
        "            count_zero += torch.sum((m.weight.data==0).float())\n",
        "    return count_zero/(count_zero+count_nonzero)\n"
      ]
    },
    {
      "attachments": {},
      "cell_type": "markdown",
      "metadata": {
        "id": "coxwH5pwcjTg"
      },
      "source": [
        "## Dataset\n",
        "We will use the data of the Patch Camelyon (tupac16) Challenge. It consists of $327\\,680$ color images extracted from histopathologic scans of lymph node sections. The task is to classify the presence of metastatic tissue (global binary labels are given). The images were preprocessed to a spatial dimension of $48\\times48$ and split to 65k for training and 16k for testing images. See [here](https://www.kaggle.com/competitions/histopathologic-cancer-detection/overview) for further details."
      ]
    },
    {
      "cell_type": "code",
      "execution_count": 4,
      "metadata": {
        "id": "0kHfFFKUtcTY"
      },
      "outputs": [],
      "source": [
        "#loading the patch-based wholeslide histopathology data (uint8) and converting it to torch tensors\n",
        "import os\n",
        "\n",
        "dataset_url = 'https://cloud.imi.uni-luebeck.de/s/sjjiReHqSnokJ2n/download'\n",
        "\n",
        "def get_data(data_url):\n",
        "    filename = './patchCamelyon8c.mat'\n",
        "    if not os.path.exists(filename):\n",
        "        #filename = wget.download(data_url)\n",
        "        pass\n",
        "\n",
        "get_data(dataset_url)\n",
        "\n",
        "\n",
        "data = scipy.io.loadmat('patchCamelyon8c.mat')\n",
        "\n",
        "img_train = torch.from_numpy(data['img_train'].astype('float32')/255)\n",
        "img_test = torch.from_numpy(data['img_test'].astype('float32')/255)\n",
        "\n",
        "label_train = torch.from_numpy(data['label_train']).long()\n",
        "label_test = torch.from_numpy(data['label_test']).long()"
      ]
    },
    {
      "attachments": {},
      "cell_type": "markdown",
      "metadata": {
        "id": "vfc1vm-AcjTj"
      },
      "source": [
        "Let's visualize an example for the two classes. You can run the cell multiple times, getting each time new random examples."
      ]
    },
    {
      "cell_type": "code",
      "execution_count": 5,
      "metadata": {
        "colab": {
          "base_uri": "https://localhost:8080/",
          "height": 344
        },
        "id": "1Qo6fpgEcjTk",
        "outputId": "e7e976b7-382b-4d5a-83ff-665f0cf0ae2f"
      },
      "outputs": [
        {
          "name": "stdout",
          "output_type": "stream",
          "text": [
            "index for no metastatic tissue: 19782\n",
            "index for metastatic tissue: 19992\n"
          ]
        },
        {
          "data": {
            "image/png": "[encoded data removed]",
            "text/plain": [
              "<Figure size 640x480 with 2 Axes>"
            ]
          },
          "metadata": {},
          "output_type": "display_data"
        }
      ],
      "source": [
        "fig, [ax1, ax2] = plt.subplots(1, 2)\n",
        "idx_negative = torch.where(label_train.squeeze() == 0)[0]\n",
        "idx_negative = idx_negative[torch.randperm(len(idx_negative))[0]]\n",
        "\n",
        "idx_positive = torch.where(label_train.squeeze() == 1)[0]\n",
        "idx_positive = idx_positive[torch.randperm(len(idx_positive))[0]]\n",
        "\n",
        "print('index for no metastatic tissue:', idx_negative.item())\n",
        "print('index for metastatic tissue:', idx_positive.item())\n",
        "\n",
        "ax1.imshow(img_train[idx_negative].permute(1, 2, 0))\n",
        "ax1.set_title('no metastatic tissue')\n",
        "ax2.imshow(img_train[idx_positive].permute(1, 2, 0))\n",
        "ax2.set_title('metastatic tissue')\n",
        "plt.show()"
      ]
    },
    {
      "attachments": {},
      "cell_type": "markdown",
      "metadata": {
        "id": "Cdj_paAtcjTl"
      },
      "source": [
        "We load a pretrained `VGG11`, inspect its architecture and gather some computational information."
      ]
    },
    {
      "cell_type": "code",
      "execution_count": 6,
      "metadata": {
        "colab": {
          "base_uri": "https://localhost:8080/"
        },
        "id": "VKHf1__JtM6x",
        "outputId": "cb39ebaf-931b-4bdd-d79d-4387495b607b"
      },
      "outputs": [
        {
          "name": "stderr",
          "output_type": "stream",
          "text": [
            "/Users/manuel/miniforge3/envs/ml/lib/python3.9/site-packages/torchvision/models/_utils.py:208: UserWarning: The parameter 'pretrained' is deprecated since 0.13 and may be removed in the future, please use 'weights' instead.\n",
            "  warnings.warn(\n",
            "/Users/manuel/miniforge3/envs/ml/lib/python3.9/site-packages/torchvision/models/_utils.py:223: UserWarning: Arguments other than a weight enum or `None` for 'weights' are deprecated since 0.13 and may be removed in the future. The current behavior is equivalent to passing `weights=VGG11_BN_Weights.IMAGENET1K_V1`. You can also use `weights=VGG11_BN_Weights.DEFAULT` to get the most up-to-date weights.\n",
            "  warnings.warn(msg)\n",
            "Downloading: \"https://download.pytorch.org/models/vgg11_bn-6002323d.pth\" to /Users/manuel/.cache/torch/hub/checkpoints/vgg11_bn-6002323d.pth\n",
            "100%|██████████| 507M/507M [00:27<00:00, 19.2MB/s] \n",
            "/Users/manuel/miniforge3/envs/ml/lib/python3.9/site-packages/torchinfo/torchinfo.py:477: UserWarning: TypedStorage is deprecated. It will be removed in the future and UntypedStorage will be the only storage class. This should only matter to you if you are using storages directly.  To access UntypedStorage directly, use tensor.untyped_storage() instead of tensor.storage()\n",
            "  action_fn=lambda data: sys.getsizeof(data.storage()),\n",
            "/Users/manuel/miniforge3/envs/ml/lib/python3.9/site-packages/torch/storage.py:665: UserWarning: TypedStorage is deprecated. It will be removed in the future and UntypedStorage will be the only storage class. This should only matter to you if you are using storages directly.  To access UntypedStorage directly, use tensor.untyped_storage() instead of tensor.storage()\n",
            "  return super().__sizeof__() + self.nbytes()\n"
          ]
        },
        {
          "data": {
            "text/plain": [
              "==========================================================================================\n",
              "Layer (type:depth-idx)                   Output Shape              Param #\n",
              "==========================================================================================\n",
              "VGG                                      [128, 1000]               --\n",
              "├─Sequential: 1-1                        [128, 512, 1, 1]          --\n",
              "│    └─Conv2d: 2-1                       [128, 64, 48, 48]         1,792\n",
              "│    └─BatchNorm2d: 2-2                  [128, 64, 48, 48]         128\n",
              "│    └─ReLU: 2-3                         [128, 64, 48, 48]         --\n",
              "│    └─MaxPool2d: 2-4                    [128, 64, 24, 24]         --\n",
              "│    └─Conv2d: 2-5                       [128, 128, 24, 24]        73,856\n",
              "│    └─BatchNorm2d: 2-6                  [128, 128, 24, 24]        256\n",
              "│    └─ReLU: 2-7                         [128, 128, 24, 24]        --\n",
              "│    └─MaxPool2d: 2-8                    [128, 128, 12, 12]        --\n",
              "│    └─Conv2d: 2-9                       [128, 256, 12, 12]        295,168\n",
              "│    └─BatchNorm2d: 2-10                 [128, 256, 12, 12]        512\n",
              "│    └─ReLU: 2-11                        [128, 256, 12, 12]        --\n",
              "│    └─Conv2d: 2-12                      [128, 256, 12, 12]        590,080\n",
              "│    └─BatchNorm2d: 2-13                 [128, 256, 12, 12]        512\n",
              "│    └─ReLU: 2-14                        [128, 256, 12, 12]        --\n",
              "│    └─MaxPool2d: 2-15                   [128, 256, 6, 6]          --\n",
              "│    └─Conv2d: 2-16                      [128, 512, 6, 6]          1,180,160\n",
              "│    └─BatchNorm2d: 2-17                 [128, 512, 6, 6]          1,024\n",
              "│    └─ReLU: 2-18                        [128, 512, 6, 6]          --\n",
              "│    └─Conv2d: 2-19                      [128, 512, 6, 6]          2,359,808\n",
              "│    └─BatchNorm2d: 2-20                 [128, 512, 6, 6]          1,024\n",
              "│    └─ReLU: 2-21                        [128, 512, 6, 6]          --\n",
              "│    └─MaxPool2d: 2-22                   [128, 512, 3, 3]          --\n",
              "│    └─Conv2d: 2-23                      [128, 512, 3, 3]          2,359,808\n",
              "│    └─BatchNorm2d: 2-24                 [128, 512, 3, 3]          1,024\n",
              "│    └─ReLU: 2-25                        [128, 512, 3, 3]          --\n",
              "│    └─Conv2d: 2-26                      [128, 512, 3, 3]          2,359,808\n",
              "│    └─BatchNorm2d: 2-27                 [128, 512, 3, 3]          1,024\n",
              "│    └─ReLU: 2-28                        [128, 512, 3, 3]          --\n",
              "│    └─MaxPool2d: 2-29                   [128, 512, 1, 1]          --\n",
              "├─AdaptiveAvgPool2d: 1-2                 [128, 512, 7, 7]          --\n",
              "├─Sequential: 1-3                        [128, 1000]               --\n",
              "│    └─Linear: 2-30                      [128, 4096]               102,764,544\n",
              "│    └─ReLU: 2-31                        [128, 4096]               --\n",
              "│    └─Dropout: 2-32                     [128, 4096]               --\n",
              "│    └─Linear: 2-33                      [128, 4096]               16,781,312\n",
              "│    └─ReLU: 2-34                        [128, 4096]               --\n",
              "│    └─Dropout: 2-35                     [128, 4096]               --\n",
              "│    └─Linear: 2-36                      [128, 1000]               4,097,000\n",
              "==========================================================================================\n",
              "Total params: 132,868,840\n",
              "Trainable params: 132,868,840\n",
              "Non-trainable params: 0\n",
              "Total mult-adds (G): 59.87\n",
              "==========================================================================================\n",
              "Input size (MB): 3.54\n",
              "Forward/backward pass size (MB): 707.76\n",
              "Params size (MB): 531.48\n",
              "Estimated Total Size (MB): 1242.78\n",
              "=========================================================================================="
            ]
          },
          "execution_count": 6,
          "metadata": {},
          "output_type": "execute_result"
        }
      ],
      "source": [
        "#!pip install torchinfo\n",
        "from torchinfo import summary\n",
        "net = torchvision.models.vgg11_bn(pretrained='True')\n",
        "\n",
        "summary(net, (128, 3, 48, 48))"
      ]
    },
    {
      "attachments": {},
      "cell_type": "markdown",
      "metadata": {
        "id": "XfC5stkxcjTv"
      },
      "source": [
        "## Task 0 (15 points): Modify a pretrained VGG11_BN network for the given training data\n",
        "Complete the function below, which returns a VGG11-Net with its architecture modified accordingly to match the tupac16 dataset.\n",
        "+ Replace the layer `net.avgpool` with an adaptive average pool of output size $1\\times1$\n",
        "+ Create a new classifier as `nn.Sequential` with two linear layers ($512\\times256$ and $256\\times2$) including one ReLU and no batch-norm."
      ]
    },
    {
      "cell_type": "code",
      "execution_count": 7,
      "metadata": {
        "id": "8pmjxtAZcjTw"
      },
      "outputs": [],
      "source": [
        "def tupac16_vgg11():\n",
        "    net = torchvision.models.vgg11_bn(pretrained='True')\n",
        "    net.avgpool = nn.AdaptiveAvgPool2d((1, 1))\n",
        "    net.classifier = nn.Sequential(\n",
        "        nn.Linear(512,256),\n",
        "        nn.Linear(256,2),\n",
        "        nn.ReLU() #no batch-norm? -> YES READ ABOVE\n",
        "    )\n",
        "\n",
        "    return net"
      ]
    },
    {
      "attachments": {},
      "cell_type": "markdown",
      "metadata": {
        "id": "8H5XnIXmcjTy"
      },
      "source": [
        "Check the reduced parameter count using `summary` from `torchinfo`. Your should obtain about $9\\,357\\,826$ parameters."
      ]
    },
    {
      "cell_type": "code",
      "execution_count": 11,
      "metadata": {
        "colab": {
          "base_uri": "https://localhost:8080/"
        },
        "id": "eomZ9IGicjTz",
        "outputId": "1625b938-209b-44f1-da19-64ed76a8cef0"
      },
      "outputs": [
        {
          "data": {
            "text/plain": [
              "=================================================================\n",
              "Layer (type:depth-idx)                   Param #\n",
              "=================================================================\n",
              "VGG                                      --\n",
              "├─Sequential: 1-1                        --\n",
              "│    └─Conv2d: 2-1                       1,792\n",
              "│    └─BatchNorm2d: 2-2                  128\n",
              "│    └─ReLU: 2-3                         --\n",
              "│    └─MaxPool2d: 2-4                    --\n",
              "│    └─Conv2d: 2-5                       73,856\n",
              "│    └─BatchNorm2d: 2-6                  256\n",
              "│    └─ReLU: 2-7                         --\n",
              "│    └─MaxPool2d: 2-8                    --\n",
              "│    └─Conv2d: 2-9                       295,168\n",
              "│    └─BatchNorm2d: 2-10                 512\n",
              "│    └─ReLU: 2-11                        --\n",
              "│    └─Conv2d: 2-12                      590,080\n",
              "│    └─BatchNorm2d: 2-13                 512\n",
              "│    └─ReLU: 2-14                        --\n",
              "│    └─MaxPool2d: 2-15                   --\n",
              "│    └─Conv2d: 2-16                      1,180,160\n",
              "│    └─BatchNorm2d: 2-17                 1,024\n",
              "│    └─ReLU: 2-18                        --\n",
              "│    └─Conv2d: 2-19                      2,359,808\n",
              "│    └─BatchNorm2d: 2-20                 1,024\n",
              "│    └─ReLU: 2-21                        --\n",
              "│    └─MaxPool2d: 2-22                   --\n",
              "│    └─Conv2d: 2-23                      2,359,808\n",
              "│    └─BatchNorm2d: 2-24                 1,024\n",
              "│    └─ReLU: 2-25                        --\n",
              "│    └─Conv2d: 2-26                      2,359,808\n",
              "│    └─BatchNorm2d: 2-27                 1,024\n",
              "│    └─ReLU: 2-28                        --\n",
              "│    └─MaxPool2d: 2-29                   --\n",
              "├─AdaptiveAvgPool2d: 1-2                 --\n",
              "├─Sequential: 1-3                        --\n",
              "│    └─Linear: 2-30                      131,328\n",
              "│    └─Linear: 2-31                      514\n",
              "│    └─ReLU: 2-32                        --\n",
              "=================================================================\n",
              "Total params: 9,357,826\n",
              "Trainable params: 9,357,826\n",
              "Non-trainable params: 0\n",
              "================================================================="
            ]
          },
          "execution_count": 11,
          "metadata": {},
          "output_type": "execute_result"
        }
      ],
      "source": [
        "model = tupac16_vgg11()\n",
        "summary(model)"
      ]
    },
    {
      "attachments": {},
      "cell_type": "markdown",
      "metadata": {
        "id": "HVeA6LHccjTz"
      },
      "source": [
        "## Task1 (25 points): Fine tuning\n",
        "Fine-tune this network for 16 sub-epochs on the tupac16 dataset. One sub-epoch is defined as a random quarter of the training pathes. Use `torch.randperm` to generate the needed indices for every epoch. The batch size should be 128. Choose Adam as an optimizer with an initial learning rate of 0.0005 and an exponential learning rate scheduler with `gamma=0.9`. After training, evaluate the model on the test data. It should yield an accuracy about $94\\%$.\n",
        "\n",
        "**Note:** Task 2 and 3 can be performed independently, but you should store each trained network under a new filename (for comparisons). In the following all techniques should only be applied to the feature-part of the network (and not the classifier layers).\n",
        "\n",
        "**Hint**: If you struggle with implementing of the training routine, have a look at the previous exercises."
      ]
    },
    {
      "cell_type": "code",
      "execution_count": 12,
      "metadata": {
        "colab": {
          "base_uri": "https://localhost:8080/",
          "height": 633,
          "referenced_widgets": [
            "493869f4f7634ed695af66d597c148b5",
            "234732794167490593d69972c3f79e72",
            "45bc6f7311664b1d9117fb3d0b9c64c7",
            "f4dff813c27d4693be4316a308bd6ba6",
            "158f2152070940bc8be6d75210abc3b1",
            "d87c60e759f74aaa9b08436d7a6a8006",
            "bf2245da5d414263a493cac2d519dbd7",
            "9d5e0dbc15024c77af6ee872e6ce0824",
            "76afb3c6910749409ad8bd19c7907533",
            "514b7c10e84e408e9a7b69157c391700",
            "ff8b1f081ad5443386af49946d53efaa"
          ]
        },
        "id": "mqKw4fzMVd4Q",
        "outputId": "2a45f356-0c0f-4e03-e537-e4ebed6b2cc4"
      },
      "outputs": [
        {
          "data": {
            "application/vnd.jupyter.widget-view+json": {
              "model_id": "3aa18d53377d42aa9929538b83e6a1b6",
              "version_major": 2,
              "version_minor": 0
            },
            "text/plain": [
              "  0%|          | 0/16 [00:00<?, ?epoch/s]"
            ]
          },
          "metadata": {},
          "output_type": "display_data"
        },
        {
          "name": "stdout",
          "output_type": "stream",
          "text": [
            "Epoch 0 (train) -- loss: 0.3554 accuracy: 0.8287\n",
            "Epoch 0 (valid) -- loss: 0.3108 accuracy: 0.8727\n",
            "Epoch 1 (train) -- loss: 0.2532 accuracy: 0.8950\n",
            "Epoch 1 (valid) -- loss: 0.3060 accuracy: 0.8712\n",
            "Epoch 2 (train) -- loss: 0.2199 accuracy: 0.9133\n",
            "Epoch 2 (valid) -- loss: 0.2363 accuracy: 0.9057\n",
            "Epoch 3 (train) -- loss: 0.1870 accuracy: 0.9283\n",
            "Epoch 3 (valid) -- loss: 0.2367 accuracy: 0.9081\n",
            "Epoch 4 (train) -- loss: 0.1599 accuracy: 0.9404\n",
            "Epoch 4 (valid) -- loss: 0.2458 accuracy: 0.9109\n",
            "Epoch 5 (train) -- loss: 0.1425 accuracy: 0.9485\n",
            "Epoch 5 (valid) -- loss: 0.2450 accuracy: 0.9166\n",
            "Epoch 6 (train) -- loss: 0.1204 accuracy: 0.9549\n",
            "Epoch 6 (valid) -- loss: 0.2647 accuracy: 0.8958\n",
            "Epoch 7 (train) -- loss: 0.1063 accuracy: 0.9622\n",
            "Epoch 7 (valid) -- loss: 0.2074 accuracy: 0.9260\n",
            "Epoch 8 (train) -- loss: 0.0886 accuracy: 0.9693\n",
            "Epoch 8 (valid) -- loss: 0.2074 accuracy: 0.9285\n",
            "Epoch 9 (train) -- loss: 0.0726 accuracy: 0.9753\n",
            "Epoch 9 (valid) -- loss: 0.1984 accuracy: 0.9356\n",
            "Epoch 10 (train) -- loss: 0.0570 accuracy: 0.9810\n",
            "Epoch 10 (valid) -- loss: 0.1993 accuracy: 0.9374\n",
            "Epoch 11 (train) -- loss: 0.0508 accuracy: 0.9830\n",
            "Epoch 11 (valid) -- loss: 0.2202 accuracy: 0.9323\n",
            "Epoch 12 (train) -- loss: 0.0450 accuracy: 0.9857\n",
            "Epoch 12 (valid) -- loss: 0.1970 accuracy: 0.9377\n",
            "Epoch 13 (train) -- loss: 0.0380 accuracy: 0.9883\n",
            "Epoch 13 (valid) -- loss: 0.2130 accuracy: 0.9390\n",
            "Epoch 14 (train) -- loss: 0.0296 accuracy: 0.9910\n",
            "Epoch 14 (valid) -- loss: 0.2109 accuracy: 0.9388\n",
            "Epoch 15 (train) -- loss: 0.0228 accuracy: 0.9932\n",
            "Epoch 15 (valid) -- loss: 0.2096 accuracy: 0.9428\n"
          ]
        }
      ],
      "source": [
        "# Task1 - Training loop # hier war nichts gegeben, hab ich von ex 4 übernommen\n",
        "from torch.utils.data import DataLoader, TensorDataset\n",
        "from tqdm.notebook import trange, tqdm\n",
        "\n",
        "test_dataset = TensorDataset(img_test, label_test[0])\n",
        "dl_test = DataLoader(test_dataset, batch_size=128, shuffle=True)\n",
        "\n",
        "model.to(device)\n",
        "\n",
        "num_epochs = 16\n",
        "\n",
        "# optimizer\n",
        "optimizer = torch.optim.Adam(model.parameters(), lr= 0.0005)\n",
        "\n",
        "# learning rate scheduler\n",
        "lr_scheduler = torch.optim.lr_scheduler.ExponentialLR(optimizer, gamma=0.9)\n",
        "\n",
        "# criterion\n",
        "criterion = torch.nn.CrossEntropyLoss()\n",
        "\n",
        "# for reproducibility (do not change)\n",
        "torch.manual_seed(0)\n",
        "\n",
        "# statistics\n",
        "train_loss = torch.zeros(num_epochs, device=device)\n",
        "train_acc = torch.zeros_like(train_loss)\n",
        "\n",
        "test_loss = torch.zeros_like(train_loss)\n",
        "test_acc = torch.zeros_like(train_loss)\n",
        "\n",
        "# for num_epochs\n",
        "for epoch in trange(num_epochs, unit='epoch'):\n",
        "\n",
        "    # Generate random indices for a quarter of the training paths\n",
        "    quarter = len(img_train) // 4\n",
        "    indices = torch.randperm(len(img_train))[:quarter]\n",
        "\n",
        "    # Subset the dataset using the generated indices\n",
        "    train_dataset = TensorDataset(img_train, label_train[0])\n",
        "\n",
        "    subset_dataset = torch.utils.data.Subset(train_dataset, indices)\n",
        "\n",
        "    # Create a data loader for the subset of data\n",
        "    dl_train = DataLoader(subset_dataset, batch_size=128, shuffle=True)\n",
        "\n",
        "    # train mode\n",
        "    model.train()\n",
        "\n",
        "    # for each mini-batch\n",
        "    for input, target in dl_train:\n",
        "        input = input.to(device)\n",
        "        target = target.to(device)\n",
        "\n",
        "        # zero the parameter gradients\n",
        "        # todo\n",
        "        optimizer.zero_grad()\n",
        "\n",
        "        # forward + backward + optimize\n",
        "        # todo\n",
        "        output = model(input)\n",
        "        loss = criterion(output, target)\n",
        "        loss.backward()\n",
        "        optimizer.step()\n",
        "\n",
        "        # statistics\n",
        "        train_loss[epoch] += loss.detach()\n",
        "        train_acc[epoch] += torch.mean((torch.argmax(output, dim=-1) == target).float())\n",
        "\n",
        "    # update learning rate\n",
        "    # todo\n",
        "    lr_scheduler.step()\n",
        "\n",
        "    train_loss[epoch] /= len(dl_train)\n",
        "    train_acc[epoch] /= len(dl_train)\n",
        "\n",
        "    # output\n",
        "    tqdm.write('Epoch {} (train) -- loss: {:.4f} accuracy: {:.4f}'.format(epoch, train_loss[epoch].item(), train_acc[epoch].item()))\n",
        "\n",
        "    # validate\n",
        "    with torch.no_grad():\n",
        "\n",
        "        # eval mode\n",
        "        model.eval()\n",
        "\n",
        "        # for each mini-batch\n",
        "        for input, target in dl_test:\n",
        "            input = input.to(device)\n",
        "            target = target.to(device)\n",
        "\n",
        "            # forward\n",
        "            # todo\n",
        "            output = model(input)\n",
        "            loss = criterion(output, target)\n",
        "\n",
        "            # statistics\n",
        "            test_loss[epoch] += loss.detach()\n",
        "            test_acc[epoch] += torch.mean((torch.argmax(output, dim=-1) == target).float())\n",
        "\n",
        "        test_loss[epoch] /= len(dl_test)\n",
        "        test_acc[epoch] /= len(dl_test)\n",
        "\n",
        "        # output\n",
        "        tqdm.write('Epoch {} (valid) -- loss: {:.4f} accuracy: {:.4f}'.format(epoch, test_loss[epoch].item(), test_acc[epoch].item()))\n",
        "\n",
        "# save trained network as tupac16_ex1.pt\n",
        "torch.save(model, 'tupac16_ex1.pth')"
      ]
    },
    {
      "attachments": {},
      "cell_type": "markdown",
      "metadata": {
        "id": "iFs7e-4dcjT0"
      },
      "source": [
        "## Task 2 (60 points): Network Pruning through increased Sparsity\n",
        "+ Start with the same modified, pre-trained (not fine-tuned) vgg11_bn as before by calling your `tupac16_vgg11` method.\n",
        "+ Reuse the training routine from above.\n",
        "+ Add a sparsity promoting L1-loss (sum of absolute values) with a weight factor of 0.04 to the classification loss on the weights and bias of each BatchNorm2d.\n",
        "    + Therefor iterate over all modules of the net using `modules()` and determine the layer type using `isinstance()`\n",
        "+ Retrain the network.\n",
        "+ Evaluate its test accuracy (will drop slightly to ~89%)."
      ]
    },
    {
      "cell_type": "code",
      "execution_count": 37,
      "metadata": {},
      "outputs": [],
      "source": [
        "def l1_sparse_loss(layer):\n",
        "    #print('l1_sparse_loss:', torch.sum(abs(layer.weight))+torch.sum(abs(layer.bias)))\n",
        "    return torch.sum(abs(layer.weight)) + torch.sum(abs(layer.bias))"
      ]
    },
    {
      "cell_type": "code",
      "execution_count": 38,
      "metadata": {
        "id": "nLFzc3vmm-qi"
      },
      "outputs": [
        {
          "data": {
            "application/vnd.jupyter.widget-view+json": {
              "model_id": "c04414eff33543088a8213a4ecdb29fe",
              "version_major": 2,
              "version_minor": 0
            },
            "text/plain": [
              "  0%|          | 0/16 [00:00<?, ?epoch/s]"
            ]
          },
          "metadata": {},
          "output_type": "display_data"
        },
        {
          "name": "stdout",
          "output_type": "stream",
          "text": [
            "Epoch 0 (train) -- loss: 74.5240 accuracy: 0.8242\n",
            "Epoch 0 (valid) -- loss: 0.3078 accuracy: 0.8747\n",
            "Epoch 1 (train) -- loss: 61.6939 accuracy: 0.8900\n",
            "Epoch 1 (valid) -- loss: 0.2757 accuracy: 0.8929\n",
            "Epoch 2 (train) -- loss: 50.7379 accuracy: 0.9064\n",
            "Epoch 2 (valid) -- loss: 0.3040 accuracy: 0.8790\n",
            "Epoch 3 (train) -- loss: 41.5688 accuracy: 0.9108\n",
            "Epoch 3 (valid) -- loss: 0.2881 accuracy: 0.8709\n",
            "Epoch 4 (train) -- loss: 34.1827 accuracy: 0.9135\n",
            "Epoch 4 (valid) -- loss: 0.3173 accuracy: 0.8607\n",
            "Epoch 5 (train) -- loss: 28.6668 accuracy: 0.9086\n",
            "Epoch 5 (valid) -- loss: 0.3024 accuracy: 0.8766\n",
            "Epoch 6 (train) -- loss: 24.7862 accuracy: 0.9102\n",
            "Epoch 6 (valid) -- loss: 0.2555 accuracy: 0.8997\n",
            "Epoch 7 (train) -- loss: 22.0559 accuracy: 0.9117\n",
            "Epoch 7 (valid) -- loss: 0.4328 accuracy: 0.8336\n",
            "Epoch 8 (train) -- loss: 20.0187 accuracy: 0.9127\n",
            "Epoch 8 (valid) -- loss: 0.2636 accuracy: 0.8936\n",
            "Epoch 9 (train) -- loss: 18.4022 accuracy: 0.9167\n",
            "Epoch 9 (valid) -- loss: 0.2381 accuracy: 0.9050\n",
            "Epoch 10 (train) -- loss: 17.0757 accuracy: 0.9236\n",
            "Epoch 10 (valid) -- loss: 0.2515 accuracy: 0.9023\n",
            "Epoch 11 (train) -- loss: 15.9723 accuracy: 0.9207\n",
            "Epoch 11 (valid) -- loss: 0.3228 accuracy: 0.8749\n",
            "Epoch 12 (train) -- loss: 15.0110 accuracy: 0.9221\n",
            "Epoch 12 (valid) -- loss: 0.2437 accuracy: 0.9017\n",
            "Epoch 13 (train) -- loss: 14.1723 accuracy: 0.9269\n",
            "Epoch 13 (valid) -- loss: 0.3043 accuracy: 0.8796\n",
            "Epoch 14 (train) -- loss: 13.4514 accuracy: 0.9289\n",
            "Epoch 14 (valid) -- loss: 0.2605 accuracy: 0.8956\n",
            "Epoch 15 (train) -- loss: 12.8116 accuracy: 0.9330\n",
            "Epoch 15 (valid) -- loss: 0.3072 accuracy: 0.8794\n"
          ]
        }
      ],
      "source": [
        "# Task 2\n",
        "model = tupac16_vgg11()\n",
        "\n",
        "# Task1 - Training loop # hier war nichts gegeben, hab ich von ex 4 übernommen\n",
        "from torch.utils.data import DataLoader, TensorDataset\n",
        "from tqdm.notebook import trange, tqdm\n",
        "\n",
        "test_dataset = TensorDataset(img_test, label_test[0])\n",
        "dl_test = DataLoader(test_dataset, batch_size=128, shuffle=True)\n",
        "\n",
        "model.to(device)\n",
        "\n",
        "num_epochs = 16\n",
        "\n",
        "# optimizer\n",
        "optimizer = torch.optim.Adam(model.parameters(), lr= 0.0005)\n",
        "\n",
        "# learning rate scheduler\n",
        "lr_scheduler = torch.optim.lr_scheduler.ExponentialLR(optimizer, gamma=0.9)\n",
        "\n",
        "# criterion\n",
        "criterion = torch.nn.CrossEntropyLoss()\n",
        "\n",
        "# for reproducibility (do not change)\n",
        "torch.manual_seed(0)\n",
        "\n",
        "# statistics\n",
        "train_loss = torch.zeros(num_epochs, device=device)\n",
        "train_acc = torch.zeros_like(train_loss)\n",
        "\n",
        "test_loss = torch.zeros_like(train_loss)\n",
        "test_acc = torch.zeros_like(train_loss)\n",
        "\n",
        "# for num_epochs\n",
        "for epoch in trange(num_epochs, unit='epoch'):\n",
        "\n",
        "    # Generate random indices for a quarter of the training paths\n",
        "    quarter = len(img_train) // 4\n",
        "    indices = torch.randperm(len(img_train))[:quarter]\n",
        "\n",
        "    # Subset the dataset using the generated indices\n",
        "    train_dataset = TensorDataset(img_train, label_train[0])\n",
        "\n",
        "    subset_dataset = torch.utils.data.Subset(train_dataset, indices)\n",
        "\n",
        "    # Create a data loader for the subset of data\n",
        "    dl_train = DataLoader(subset_dataset, batch_size=128, shuffle=True)\n",
        "\n",
        "    # train mode\n",
        "    model.train()\n",
        "\n",
        "    # for each mini-batch\n",
        "    for input, target in dl_train:\n",
        "        input = input.to(device)\n",
        "        target = target.to(device)\n",
        "\n",
        "        # zero the parameter gradients\n",
        "        # todo\n",
        "        optimizer.zero_grad()\n",
        "\n",
        "        # forward + backward + optimize\n",
        "        # todo\n",
        "        output = model(input)\n",
        "        loss = criterion(output, target)\n",
        "        for i in model.modules():\n",
        "             if isinstance(i, nn.BatchNorm2d):\n",
        "                loss += 0.04 * l1_sparse_loss(i)\n",
        "        loss.backward()\n",
        "        optimizer.step()\n",
        "\n",
        "        # statistics\n",
        "        train_loss[epoch] += loss.detach()\n",
        "        train_acc[epoch] += torch.mean((torch.argmax(output, dim=-1) == target).float())\n",
        "\n",
        "    # update learning rate\n",
        "    # todo\n",
        "    lr_scheduler.step()\n",
        "\n",
        "    train_loss[epoch] /= len(dl_train)\n",
        "    train_acc[epoch] /= len(dl_train)\n",
        "\n",
        "    # output\n",
        "    tqdm.write('Epoch {} (train) -- loss: {:.4f} accuracy: {:.4f}'.format(epoch, train_loss[epoch].item(), train_acc[epoch].item()))\n",
        "\n",
        "    # validate\n",
        "    with torch.no_grad():\n",
        "\n",
        "        # eval mode\n",
        "        model.eval()\n",
        "\n",
        "        # for each mini-batch\n",
        "        for input, target in dl_test:\n",
        "            input = input.to(device)\n",
        "            target = target.to(device)\n",
        "\n",
        "            # forward\n",
        "            # todo\n",
        "            output = model(input)\n",
        "            loss = criterion(output, target)\n",
        "            for i in model.modules():\n",
        "             if isinstance(i, nn.BatchNorm2d):\n",
        "                loss += 0.04 * l1_sparse_loss(i)\n",
        "\n",
        "            # statistics\n",
        "            test_loss[epoch] += loss.detach()\n",
        "            test_acc[epoch] += torch.mean((torch.argmax(output, dim=-1) == target).float())\n",
        "\n",
        "        test_loss[epoch] /= len(dl_test)\n",
        "        test_acc[epoch] /= len(dl_test)\n",
        "\n",
        "        # output\n",
        "        tqdm.write('Epoch {} (valid) -- loss: {:.4f} accuracy: {:.4f}'.format(epoch, test_loss[epoch].item(), test_acc[epoch].item()))\n",
        "\n",
        "# save trained network as tupac16_ex1.pt\n",
        "torch.save(model, 'tupac16_ex2.pth')\n",
        "\n",
        "# todo"
      ]
    },
    {
      "attachments": {},
      "cell_type": "markdown",
      "metadata": {
        "id": "Wr5wVHyMcjT2"
      },
      "source": [
        "Write a function that determines a threshold for input/output neurons to be set to zero (the ones which have been reduced in absolute value using the sparsity constraint). You can use the function `topk`, which outputs both the values and indices sorted around a chosen quantile/percentile. Here we simply use the median to set 50% of values to zero.\n",
        "\n",
        "When applied correctly (as incoming & outgoing mask) for each Conv2d layer, it reduces the nonzero parameters by ~75% (the first incoming & last outgoing Conv2d are not masked).\n",
        "Note that BatchNorm has four tensors and two index masks have to be applied as follows:\n",
        "\n",
        "`B = A[idx_next,:,:,:][:,idx_prev,:,:]`\n",
        "\n",
        "Now you can replace all Conv2d and BatchNorm2d layers with smaller filters (and copy their weights) so that we have the following sequence of channels: 3, 32, 64, (2x)128, (3x)256, 512.\n",
        "Evaluate the slimmed network (you could observe a slight improvement to ~92%) and confirm that the required computations are reduced to 12 GFlops."
      ]
    },
    {
      "cell_type": "code",
      "execution_count": 39,
      "metadata": {
        "colab": {
          "base_uri": "https://localhost:8080/",
          "height": 395
        },
        "id": "y0DMYXwivPPe",
        "outputId": "cfe4bdd8-410d-4de3-ffcf-614d0c63bf45"
      },
      "outputs": [
        {
          "ename": "AssertionError",
          "evalue": "Torch not compiled with CUDA enabled",
          "output_type": "error",
          "traceback": [
            "\u001b[0;31m---------------------------------------------------------------------------\u001b[0m",
            "\u001b[0;31mAssertionError\u001b[0m                            Traceback (most recent call last)",
            "Cell \u001b[0;32mIn[39], line 11\u001b[0m\n\u001b[1;32m      8\u001b[0m net \u001b[39m=\u001b[39m torch\u001b[39m.\u001b[39mload(model_name)\n\u001b[1;32m     10\u001b[0m net\u001b[39m.\u001b[39meval()\n\u001b[0;32m---> 11\u001b[0m net\u001b[39m.\u001b[39;49mcuda()\n\u001b[1;32m     13\u001b[0m mask \u001b[39m=\u001b[39m torch\u001b[39m.\u001b[39mones(\u001b[39m3\u001b[39m)\u001b[39m.\u001b[39mcuda()\n\u001b[1;32m     14\u001b[0m idx_prev \u001b[39m=\u001b[39m torch\u001b[39m.\u001b[39marange(\u001b[39m3\u001b[39m)\u001b[39m.\u001b[39mlong()\u001b[39m.\u001b[39mcuda()\n",
            "File \u001b[0;32m~/miniforge3/envs/ml/lib/python3.9/site-packages/torch/nn/modules/module.py:905\u001b[0m, in \u001b[0;36mModule.cuda\u001b[0;34m(self, device)\u001b[0m\n\u001b[1;32m    888\u001b[0m \u001b[39mdef\u001b[39;00m \u001b[39mcuda\u001b[39m(\u001b[39mself\u001b[39m: T, device: Optional[Union[\u001b[39mint\u001b[39m, device]] \u001b[39m=\u001b[39m \u001b[39mNone\u001b[39;00m) \u001b[39m-\u001b[39m\u001b[39m>\u001b[39m T:\n\u001b[1;32m    889\u001b[0m \u001b[39m    \u001b[39m\u001b[39mr\u001b[39m\u001b[39m\"\"\"Moves all model parameters and buffers to the GPU.\u001b[39;00m\n\u001b[1;32m    890\u001b[0m \n\u001b[1;32m    891\u001b[0m \u001b[39m    This also makes associated parameters and buffers different objects. So\u001b[39;00m\n\u001b[0;32m   (...)\u001b[0m\n\u001b[1;32m    903\u001b[0m \u001b[39m        Module: self\u001b[39;00m\n\u001b[1;32m    904\u001b[0m \u001b[39m    \"\"\"\u001b[39;00m\n\u001b[0;32m--> 905\u001b[0m     \u001b[39mreturn\u001b[39;00m \u001b[39mself\u001b[39;49m\u001b[39m.\u001b[39;49m_apply(\u001b[39mlambda\u001b[39;49;00m t: t\u001b[39m.\u001b[39;49mcuda(device))\n",
            "File \u001b[0;32m~/miniforge3/envs/ml/lib/python3.9/site-packages/torch/nn/modules/module.py:797\u001b[0m, in \u001b[0;36mModule._apply\u001b[0;34m(self, fn)\u001b[0m\n\u001b[1;32m    795\u001b[0m \u001b[39mdef\u001b[39;00m \u001b[39m_apply\u001b[39m(\u001b[39mself\u001b[39m, fn):\n\u001b[1;32m    796\u001b[0m     \u001b[39mfor\u001b[39;00m module \u001b[39min\u001b[39;00m \u001b[39mself\u001b[39m\u001b[39m.\u001b[39mchildren():\n\u001b[0;32m--> 797\u001b[0m         module\u001b[39m.\u001b[39;49m_apply(fn)\n\u001b[1;32m    799\u001b[0m     \u001b[39mdef\u001b[39;00m \u001b[39mcompute_should_use_set_data\u001b[39m(tensor, tensor_applied):\n\u001b[1;32m    800\u001b[0m         \u001b[39mif\u001b[39;00m torch\u001b[39m.\u001b[39m_has_compatible_shallow_copy_type(tensor, tensor_applied):\n\u001b[1;32m    801\u001b[0m             \u001b[39m# If the new tensor has compatible tensor type as the existing tensor,\u001b[39;00m\n\u001b[1;32m    802\u001b[0m             \u001b[39m# the current behavior is to change the tensor in-place using `.data =`,\u001b[39;00m\n\u001b[0;32m   (...)\u001b[0m\n\u001b[1;32m    807\u001b[0m             \u001b[39m# global flag to let the user control whether they want the future\u001b[39;00m\n\u001b[1;32m    808\u001b[0m             \u001b[39m# behavior of overwriting the existing tensor or not.\u001b[39;00m\n",
            "File \u001b[0;32m~/miniforge3/envs/ml/lib/python3.9/site-packages/torch/nn/modules/module.py:797\u001b[0m, in \u001b[0;36mModule._apply\u001b[0;34m(self, fn)\u001b[0m\n\u001b[1;32m    795\u001b[0m \u001b[39mdef\u001b[39;00m \u001b[39m_apply\u001b[39m(\u001b[39mself\u001b[39m, fn):\n\u001b[1;32m    796\u001b[0m     \u001b[39mfor\u001b[39;00m module \u001b[39min\u001b[39;00m \u001b[39mself\u001b[39m\u001b[39m.\u001b[39mchildren():\n\u001b[0;32m--> 797\u001b[0m         module\u001b[39m.\u001b[39;49m_apply(fn)\n\u001b[1;32m    799\u001b[0m     \u001b[39mdef\u001b[39;00m \u001b[39mcompute_should_use_set_data\u001b[39m(tensor, tensor_applied):\n\u001b[1;32m    800\u001b[0m         \u001b[39mif\u001b[39;00m torch\u001b[39m.\u001b[39m_has_compatible_shallow_copy_type(tensor, tensor_applied):\n\u001b[1;32m    801\u001b[0m             \u001b[39m# If the new tensor has compatible tensor type as the existing tensor,\u001b[39;00m\n\u001b[1;32m    802\u001b[0m             \u001b[39m# the current behavior is to change the tensor in-place using `.data =`,\u001b[39;00m\n\u001b[0;32m   (...)\u001b[0m\n\u001b[1;32m    807\u001b[0m             \u001b[39m# global flag to let the user control whether they want the future\u001b[39;00m\n\u001b[1;32m    808\u001b[0m             \u001b[39m# behavior of overwriting the existing tensor or not.\u001b[39;00m\n",
            "File \u001b[0;32m~/miniforge3/envs/ml/lib/python3.9/site-packages/torch/nn/modules/module.py:820\u001b[0m, in \u001b[0;36mModule._apply\u001b[0;34m(self, fn)\u001b[0m\n\u001b[1;32m    816\u001b[0m \u001b[39m# Tensors stored in modules are graph leaves, and we don't want to\u001b[39;00m\n\u001b[1;32m    817\u001b[0m \u001b[39m# track autograd history of `param_applied`, so we have to use\u001b[39;00m\n\u001b[1;32m    818\u001b[0m \u001b[39m# `with torch.no_grad():`\u001b[39;00m\n\u001b[1;32m    819\u001b[0m \u001b[39mwith\u001b[39;00m torch\u001b[39m.\u001b[39mno_grad():\n\u001b[0;32m--> 820\u001b[0m     param_applied \u001b[39m=\u001b[39m fn(param)\n\u001b[1;32m    821\u001b[0m should_use_set_data \u001b[39m=\u001b[39m compute_should_use_set_data(param, param_applied)\n\u001b[1;32m    822\u001b[0m \u001b[39mif\u001b[39;00m should_use_set_data:\n",
            "File \u001b[0;32m~/miniforge3/envs/ml/lib/python3.9/site-packages/torch/nn/modules/module.py:905\u001b[0m, in \u001b[0;36mModule.cuda.<locals>.<lambda>\u001b[0;34m(t)\u001b[0m\n\u001b[1;32m    888\u001b[0m \u001b[39mdef\u001b[39;00m \u001b[39mcuda\u001b[39m(\u001b[39mself\u001b[39m: T, device: Optional[Union[\u001b[39mint\u001b[39m, device]] \u001b[39m=\u001b[39m \u001b[39mNone\u001b[39;00m) \u001b[39m-\u001b[39m\u001b[39m>\u001b[39m T:\n\u001b[1;32m    889\u001b[0m \u001b[39m    \u001b[39m\u001b[39mr\u001b[39m\u001b[39m\"\"\"Moves all model parameters and buffers to the GPU.\u001b[39;00m\n\u001b[1;32m    890\u001b[0m \n\u001b[1;32m    891\u001b[0m \u001b[39m    This also makes associated parameters and buffers different objects. So\u001b[39;00m\n\u001b[0;32m   (...)\u001b[0m\n\u001b[1;32m    903\u001b[0m \u001b[39m        Module: self\u001b[39;00m\n\u001b[1;32m    904\u001b[0m \u001b[39m    \"\"\"\u001b[39;00m\n\u001b[0;32m--> 905\u001b[0m     \u001b[39mreturn\u001b[39;00m \u001b[39mself\u001b[39m\u001b[39m.\u001b[39m_apply(\u001b[39mlambda\u001b[39;00m t: t\u001b[39m.\u001b[39;49mcuda(device))\n",
            "File \u001b[0;32m~/miniforge3/envs/ml/lib/python3.9/site-packages/torch/cuda/__init__.py:239\u001b[0m, in \u001b[0;36m_lazy_init\u001b[0;34m()\u001b[0m\n\u001b[1;32m    235\u001b[0m     \u001b[39mraise\u001b[39;00m \u001b[39mRuntimeError\u001b[39;00m(\n\u001b[1;32m    236\u001b[0m         \u001b[39m\"\u001b[39m\u001b[39mCannot re-initialize CUDA in forked subprocess. To use CUDA with \u001b[39m\u001b[39m\"\u001b[39m\n\u001b[1;32m    237\u001b[0m         \u001b[39m\"\u001b[39m\u001b[39mmultiprocessing, you must use the \u001b[39m\u001b[39m'\u001b[39m\u001b[39mspawn\u001b[39m\u001b[39m'\u001b[39m\u001b[39m start method\u001b[39m\u001b[39m\"\u001b[39m)\n\u001b[1;32m    238\u001b[0m \u001b[39mif\u001b[39;00m \u001b[39mnot\u001b[39;00m \u001b[39mhasattr\u001b[39m(torch\u001b[39m.\u001b[39m_C, \u001b[39m'\u001b[39m\u001b[39m_cuda_getDeviceCount\u001b[39m\u001b[39m'\u001b[39m):\n\u001b[0;32m--> 239\u001b[0m     \u001b[39mraise\u001b[39;00m \u001b[39mAssertionError\u001b[39;00m(\u001b[39m\"\u001b[39m\u001b[39mTorch not compiled with CUDA enabled\u001b[39m\u001b[39m\"\u001b[39m)\n\u001b[1;32m    240\u001b[0m \u001b[39mif\u001b[39;00m _cudart \u001b[39mis\u001b[39;00m \u001b[39mNone\u001b[39;00m:\n\u001b[1;32m    241\u001b[0m     \u001b[39mraise\u001b[39;00m \u001b[39mAssertionError\u001b[39;00m(\n\u001b[1;32m    242\u001b[0m         \u001b[39m\"\u001b[39m\u001b[39mlibcudart functions unavailable. It looks like you have a broken build?\u001b[39m\u001b[39m\"\u001b[39m)\n",
            "\u001b[0;31mAssertionError\u001b[0m: Torch not compiled with CUDA enabled"
          ]
        }
      ],
      "source": [
        "# task 2 Network slimming (construct lean filters)\n",
        "\n",
        "sparsity_s = 0.04\n",
        "ternary = False\n",
        "\n",
        "model_name = 'tupac16_ex2.pt'\n",
        "\n",
        "net = torch.load(model_name)\n",
        "\n",
        "net.eval()\n",
        "net.to(device)\n",
        "\n",
        "mask = torch.ones(3).to(device)\n",
        "idx_prev = torch.arange(3).long().to(device)\n",
        "q75 = 0.5\n",
        "print('#params before',countParameters(net.features))\n",
        "print('#features sparsity',countSparsity(net.features))\n",
        "\n",
        "\n",
        "for c in range(len(net.features)-2):\n",
        "    if isinstance(net.features[c], nn.Conv2d):\n",
        "        if(c==25):\n",
        "            q75=1\n",
        "        # todo\n",
        "\n",
        "\n",
        "# evaluation for task 2\n",
        "\n",
        "print('#params after',countParameters(net.features))\n",
        "print('#features sparsity',countSparsity(net.features))\n",
        "\n",
        "idx_epoch = torch.arange(16384).view(128,-1)\n",
        "val_acc = 0\n",
        "\n",
        "for iter in range(idx_epoch.size(1)):\n",
        "    idx_iter = idx_epoch[:,iter]\n",
        "\n",
        "    with torch.no_grad():\n",
        "        #forward path and loss\n",
        "        outputs = net(img_test[idx_iter,:,:,:].cuda())\n",
        "    val_acc += torch.sum((outputs.argmax(1).cpu()==label_test[0,idx_iter]).float())/16384.0\n",
        "\n",
        "print(val_acc)"
      ]
    },
    {
      "attachments": {},
      "cell_type": "markdown",
      "metadata": {
        "id": "VJvTp6YZcjT4"
      },
      "source": [
        "## Bonus Task - Ternary Nets:\n",
        "Start with the same modified, pre-trained (not fine-tuned) vgg11_bn as before. Finally, we want to explore, how the memory storage can be reduced with little loss. Here a ternary weight approximation will be used for which we first estimate a per-channel $\\Delta$ for each weight in Conv2d given the rule-of-thumb below.\n",
        "\n",
        "$\\begin{align}\n",
        "    \\Delta &= \\frac{0.7}{n}\\sum^n_{i=1}|W_i|\\\\\n",
        "    \\tilde{W}_i&=\n",
        "    \\begin{cases}\n",
        "        +1, &\\text{ if } W_i > \\Delta\\\\\n",
        "        0,  &\\text{ if } |W_i| \\leq \\Delta\\\\\n",
        "        -1,  &\\text{ else }\n",
        "    \\end{cases}\\\\\n",
        "    n_\\Delta &= \\sum_i|\\tilde{W}_i|\\\\\n",
        "    \\alpha &= \\frac{1}{n_\\Delta}\\sum_i|\\tilde{W}_i||W_i|\n",
        "\\end{align}$\n",
        "\n",
        "Tip: after calculating the absolute values the mean has to be computed over all but the 0-th dimension.\n",
        "The obtained ternary weights have lost their magnitude, therefore the parameter $\\alpha$ (again per-channel) is computed and multiplied with the weight tensor.\n",
        "\n",
        "Test your function with the check implemented below. For a $128\\times64\\times3\\times3$ kernel the number of unique entries is reduced from more than 70 thousand to just 257 ($2 \\cdot 128 + 1$)."
      ]
    },
    {
      "cell_type": "code",
      "execution_count": null,
      "metadata": {
        "id": "Q4ay90rCv3gi"
      },
      "outputs": [],
      "source": [
        "# template for function in bonus task\n",
        "def approx_weights(w_in,flag=True):\n",
        "    if(flag):\n",
        "        with torch.no_grad():\n",
        "            a,b,c,d = w_in.size()\n",
        "            delta = # todo\n",
        "            alpha = # todo\n",
        "            w_out = # todo\n",
        "    else:\n",
        "        w_out = w_in\n",
        "    return w_out\n",
        "\n",
        "# check the number of unique values before/after ternary approximation\n",
        "w_in = net.features[8].weight.clone().detach()\n",
        "w_approx = approx_weights(w_in,True)\n",
        "print('#unique',len(np.unique(w_in.data.cpu().flatten().numpy())))\n",
        "print('#unique',len(np.unique(w_approx.data.cpu().flatten().numpy())))"
      ]
    },
    {
      "attachments": {},
      "cell_type": "markdown",
      "metadata": {
        "id": "w2riL-ZFcjUB"
      },
      "source": [
        "To effectively train a network with weight quantisation, it is important to only use the ternary weights during forward/backward path, but update their gradients in full precision.\n",
        "\n",
        "Implement a loop that stores full precision weights in a list of tensors and replaces the `.data` values with their approximation just before calling the forward pass (and zero_grad).\n",
        "Reassign these backup copies after `loss.backward()` and `before optimizer.step()`. Retrain your network and take care to perform the weight quantisation the same way during test evaluation. The test accuracy should be around 85-90% during the epochs.\n",
        "\n",
        "**Tip:** you could use `.pop(0)` to (iteratively) access and remove the first object of a list."
      ]
    },
    {
      "cell_type": "code",
      "execution_count": null,
      "metadata": {
        "id": "HnyU-fjIcjUB"
      },
      "outputs": [],
      "source": [
        "# todo"
      ]
    }
  ],
  "metadata": {
    "accelerator": "GPU",
    "colab": {
      "include_colab_link": true,
      "provenance": []
    },
    "kernelspec": {
      "display_name": "Python 3 (ipykernel)",
      "language": "python",
      "name": "python3"
    },
    "language_info": {
      "codemirror_mode": {
        "name": "ipython",
        "version": 3
      },
      "file_extension": ".py",
      "mimetype": "text/x-python",
      "name": "python",
      "nbconvert_exporter": "python",
      "pygments_lexer": "ipython3",
      "version": "3.9.16"
    },
    "widgets": {
      "application/vnd.jupyter.widget-state+json": {
        "158f2152070940bc8be6d75210abc3b1": {
          "model_module": "@jupyter-widgets/base",
          "model_module_version": "1.2.0",
          "model_name": "LayoutModel",
          "state": {
            "_model_module": "@jupyter-widgets/base",
            "_model_module_version": "1.2.0",
            "_model_name": "LayoutModel",
            "_view_count": null,
            "_view_module": "@jupyter-widgets/base",
            "_view_module_version": "1.2.0",
            "_view_name": "LayoutView",
            "align_content": null,
            "align_items": null,
            "align_self": null,
            "border": null,
            "bottom": null,
            "display": null,
            "flex": null,
            "flex_flow": null,
            "grid_area": null,
            "grid_auto_columns": null,
            "grid_auto_flow": null,
            "grid_auto_rows": null,
            "grid_column": null,
            "grid_gap": null,
            "grid_row": null,
            "grid_template_areas": null,
            "grid_template_columns": null,
            "grid_template_rows": null,
            "height": null,
            "justify_content": null,
            "justify_items": null,
            "left": null,
            "margin": null,
            "max_height": null,
            "max_width": null,
            "min_height": null,
            "min_width": null,
            "object_fit": null,
            "object_position": null,
            "order": null,
            "overflow": null,
            "overflow_x": null,
            "overflow_y": null,
            "padding": null,
            "right": null,
            "top": null,
            "visibility": null,
            "width": null
          }
        },
        "234732794167490593d69972c3f79e72": {
          "model_module": "@jupyter-widgets/controls",
          "model_module_version": "1.5.0",
          "model_name": "HTMLModel",
          "state": {
            "_dom_classes": [],
            "_model_module": "@jupyter-widgets/controls",
            "_model_module_version": "1.5.0",
            "_model_name": "HTMLModel",
            "_view_count": null,
            "_view_module": "@jupyter-widgets/controls",
            "_view_module_version": "1.5.0",
            "_view_name": "HTMLView",
            "description": "",
            "description_tooltip": null,
            "layout": "IPY_MODEL_d87c60e759f74aaa9b08436d7a6a8006",
            "placeholder": "​",
            "style": "IPY_MODEL_bf2245da5d414263a493cac2d519dbd7",
            "value": "100%"
          }
        },
        "45bc6f7311664b1d9117fb3d0b9c64c7": {
          "model_module": "@jupyter-widgets/controls",
          "model_module_version": "1.5.0",
          "model_name": "FloatProgressModel",
          "state": {
            "_dom_classes": [],
            "_model_module": "@jupyter-widgets/controls",
            "_model_module_version": "1.5.0",
            "_model_name": "FloatProgressModel",
            "_view_count": null,
            "_view_module": "@jupyter-widgets/controls",
            "_view_module_version": "1.5.0",
            "_view_name": "ProgressView",
            "bar_style": "success",
            "description": "",
            "description_tooltip": null,
            "layout": "IPY_MODEL_9d5e0dbc15024c77af6ee872e6ce0824",
            "max": 16,
            "min": 0,
            "orientation": "horizontal",
            "style": "IPY_MODEL_76afb3c6910749409ad8bd19c7907533",
            "value": 16
          }
        },
        "493869f4f7634ed695af66d597c148b5": {
          "model_module": "@jupyter-widgets/controls",
          "model_module_version": "1.5.0",
          "model_name": "HBoxModel",
          "state": {
            "_dom_classes": [],
            "_model_module": "@jupyter-widgets/controls",
            "_model_module_version": "1.5.0",
            "_model_name": "HBoxModel",
            "_view_count": null,
            "_view_module": "@jupyter-widgets/controls",
            "_view_module_version": "1.5.0",
            "_view_name": "HBoxView",
            "box_style": "",
            "children": [
              "IPY_MODEL_234732794167490593d69972c3f79e72",
              "IPY_MODEL_45bc6f7311664b1d9117fb3d0b9c64c7",
              "IPY_MODEL_f4dff813c27d4693be4316a308bd6ba6"
            ],
            "layout": "IPY_MODEL_158f2152070940bc8be6d75210abc3b1"
          }
        },
        "514b7c10e84e408e9a7b69157c391700": {
          "model_module": "@jupyter-widgets/base",
          "model_module_version": "1.2.0",
          "model_name": "LayoutModel",
          "state": {
            "_model_module": "@jupyter-widgets/base",
            "_model_module_version": "1.2.0",
            "_model_name": "LayoutModel",
            "_view_count": null,
            "_view_module": "@jupyter-widgets/base",
            "_view_module_version": "1.2.0",
            "_view_name": "LayoutView",
            "align_content": null,
            "align_items": null,
            "align_self": null,
            "border": null,
            "bottom": null,
            "display": null,
            "flex": null,
            "flex_flow": null,
            "grid_area": null,
            "grid_auto_columns": null,
            "grid_auto_flow": null,
            "grid_auto_rows": null,
            "grid_column": null,
            "grid_gap": null,
            "grid_row": null,
            "grid_template_areas": null,
            "grid_template_columns": null,
            "grid_template_rows": null,
            "height": null,
            "justify_content": null,
            "justify_items": null,
            "left": null,
            "margin": null,
            "max_height": null,
            "max_width": null,
            "min_height": null,
            "min_width": null,
            "object_fit": null,
            "object_position": null,
            "order": null,
            "overflow": null,
            "overflow_x": null,
            "overflow_y": null,
            "padding": null,
            "right": null,
            "top": null,
            "visibility": null,
            "width": null
          }
        },
        "76afb3c6910749409ad8bd19c7907533": {
          "model_module": "@jupyter-widgets/controls",
          "model_module_version": "1.5.0",
          "model_name": "ProgressStyleModel",
          "state": {
            "_model_module": "@jupyter-widgets/controls",
            "_model_module_version": "1.5.0",
            "_model_name": "ProgressStyleModel",
            "_view_count": null,
            "_view_module": "@jupyter-widgets/base",
            "_view_module_version": "1.2.0",
            "_view_name": "StyleView",
            "bar_color": null,
            "description_width": ""
          }
        },
        "9d5e0dbc15024c77af6ee872e6ce0824": {
          "model_module": "@jupyter-widgets/base",
          "model_module_version": "1.2.0",
          "model_name": "LayoutModel",
          "state": {
            "_model_module": "@jupyter-widgets/base",
            "_model_module_version": "1.2.0",
            "_model_name": "LayoutModel",
            "_view_count": null,
            "_view_module": "@jupyter-widgets/base",
            "_view_module_version": "1.2.0",
            "_view_name": "LayoutView",
            "align_content": null,
            "align_items": null,
            "align_self": null,
            "border": null,
            "bottom": null,
            "display": null,
            "flex": null,
            "flex_flow": null,
            "grid_area": null,
            "grid_auto_columns": null,
            "grid_auto_flow": null,
            "grid_auto_rows": null,
            "grid_column": null,
            "grid_gap": null,
            "grid_row": null,
            "grid_template_areas": null,
            "grid_template_columns": null,
            "grid_template_rows": null,
            "height": null,
            "justify_content": null,
            "justify_items": null,
            "left": null,
            "margin": null,
            "max_height": null,
            "max_width": null,
            "min_height": null,
            "min_width": null,
            "object_fit": null,
            "object_position": null,
            "order": null,
            "overflow": null,
            "overflow_x": null,
            "overflow_y": null,
            "padding": null,
            "right": null,
            "top": null,
            "visibility": null,
            "width": null
          }
        },
        "bf2245da5d414263a493cac2d519dbd7": {
          "model_module": "@jupyter-widgets/controls",
          "model_module_version": "1.5.0",
          "model_name": "DescriptionStyleModel",
          "state": {
            "_model_module": "@jupyter-widgets/controls",
            "_model_module_version": "1.5.0",
            "_model_name": "DescriptionStyleModel",
            "_view_count": null,
            "_view_module": "@jupyter-widgets/base",
            "_view_module_version": "1.2.0",
            "_view_name": "StyleView",
            "description_width": ""
          }
        },
        "d87c60e759f74aaa9b08436d7a6a8006": {
          "model_module": "@jupyter-widgets/base",
          "model_module_version": "1.2.0",
          "model_name": "LayoutModel",
          "state": {
            "_model_module": "@jupyter-widgets/base",
            "_model_module_version": "1.2.0",
            "_model_name": "LayoutModel",
            "_view_count": null,
            "_view_module": "@jupyter-widgets/base",
            "_view_module_version": "1.2.0",
            "_view_name": "LayoutView",
            "align_content": null,
            "align_items": null,
            "align_self": null,
            "border": null,
            "bottom": null,
            "display": null,
            "flex": null,
            "flex_flow": null,
            "grid_area": null,
            "grid_auto_columns": null,
            "grid_auto_flow": null,
            "grid_auto_rows": null,
            "grid_column": null,
            "grid_gap": null,
            "grid_row": null,
            "grid_template_areas": null,
            "grid_template_columns": null,
            "grid_template_rows": null,
            "height": null,
            "justify_content": null,
            "justify_items": null,
            "left": null,
            "margin": null,
            "max_height": null,
            "max_width": null,
            "min_height": null,
            "min_width": null,
            "object_fit": null,
            "object_position": null,
            "order": null,
            "overflow": null,
            "overflow_x": null,
            "overflow_y": null,
            "padding": null,
            "right": null,
            "top": null,
            "visibility": null,
            "width": null
          }
        },
        "f4dff813c27d4693be4316a308bd6ba6": {
          "model_module": "@jupyter-widgets/controls",
          "model_module_version": "1.5.0",
          "model_name": "HTMLModel",
          "state": {
            "_dom_classes": [],
            "_model_module": "@jupyter-widgets/controls",
            "_model_module_version": "1.5.0",
            "_model_name": "HTMLModel",
            "_view_count": null,
            "_view_module": "@jupyter-widgets/controls",
            "_view_module_version": "1.5.0",
            "_view_name": "HTMLView",
            "description": "",
            "description_tooltip": null,
            "layout": "IPY_MODEL_514b7c10e84e408e9a7b69157c391700",
            "placeholder": "​",
            "style": "IPY_MODEL_ff8b1f081ad5443386af49946d53efaa",
            "value": " 16/16 [02:41&lt;00:00, 10.13s/epoch]"
          }
        },
        "ff8b1f081ad5443386af49946d53efaa": {
          "model_module": "@jupyter-widgets/controls",
          "model_module_version": "1.5.0",
          "model_name": "DescriptionStyleModel",
          "state": {
            "_model_module": "@jupyter-widgets/controls",
            "_model_module_version": "1.5.0",
            "_model_name": "DescriptionStyleModel",
            "_view_count": null,
            "_view_module": "@jupyter-widgets/base",
            "_view_module_version": "1.2.0",
            "_view_name": "StyleView",
            "description_width": ""
          }
        }
      }
    }
  },
  "nbformat": 4,
  "nbformat_minor": 0
}
