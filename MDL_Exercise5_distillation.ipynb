{
  "cells": [
    {
      "cell_type": "markdown",
      "metadata": {
        "id": "view-in-github",
        "colab_type": "text"
      },
      "source": [
        "<a href=\"https://colab.research.google.com/github/DerManjuel/MDL/blob/main/MDL_Exercise5_distillation.ipynb\" target=\"_parent\"><img src=\"https://colab.research.google.com/assets/colab-badge.svg\" alt=\"Open In Colab\"/></a>"
      ]
    },
    {
      "cell_type": "markdown",
      "metadata": {
        "id": "2QN-sTuocjS_"
      },
      "source": [
        "# Medical Deep Learning\n",
        "## Exercise 5: Model Distillation & Ternary Nets\n",
        "\n",
        "The goal of this exercise is to implement methods that allow to compress deep learning models via model distillation and ternary weights. This enables the use of deep learning in medicine due to its real-time ability and implementation on weaker mobile devices."
      ]
    },
    {
      "cell_type": "code",
      "execution_count": 7,
      "metadata": {
        "colab": {
          "base_uri": "https://localhost:8080/"
        },
        "id": "IK234fJ1iL37",
        "outputId": "f76f2ff5-0e44-44ef-b108-1f5dbc75f5e2"
      },
      "outputs": [
        {
          "output_type": "stream",
          "name": "stdout",
          "text": [
            "cuda\n"
          ]
        }
      ],
      "source": [
        "import torch\n",
        "# Set the device\n",
        "if torch.backends.mps.is_available():\n",
        "    device = \"mps\"\n",
        "else:\n",
        "    device = \"cuda\"\n",
        "print(device)"
      ]
    },
    {
      "cell_type": "code",
      "execution_count": 8,
      "metadata": {
        "id": "sRUWE-KitK2d"
      },
      "outputs": [],
      "source": [
        "#run pip install for pytorch flop counter before first use\n",
        "#!pip install onnx wget\n",
        "#!pip install --upgrade git+https://github.com/Lyken17/pytorch-OpCounter.git\n",
        "\n",
        "import torchvision\n",
        "import torch.nn as nn\n",
        "import torch.optim as optim\n",
        "import scipy.io\n",
        "import matplotlib.pyplot as plt\n",
        "import numpy as np\n",
        "import time\n",
        "import shutil,gzip\n",
        "#import wget\n",
        "\n",
        "#some functions to count unique parameters and sparsity are provided\n",
        "def countParameters(net):\n",
        "    model_parameters = filter(lambda p: p.requires_grad, net.parameters())\n",
        "    params = sum([p.numel() for p in model_parameters])\n",
        "    return params\n",
        "\n",
        "def countUnique(net):\n",
        "    unique = 0\n",
        "    for m in net.modules():\n",
        "        if(isinstance(m,nn.Conv2d)):\n",
        "            unique += len(np.unique(m.weight.data.cpu().flatten().numpy()))\n",
        "    return unique\n",
        "    #print('#unique',unique)\n",
        "\n",
        "def countSparsity(net):\n",
        "    count_nonzero = 0; count_zero = 0\n",
        "    for m in net.modules():\n",
        "        if(isinstance(m, nn.Conv2d)):\n",
        "            count_nonzero += torch.sum((m.weight.data!=0).float())\n",
        "            count_zero += torch.sum((m.weight.data==0).float())\n",
        "    return count_zero/(count_zero+count_nonzero)\n"
      ]
    },
    {
      "cell_type": "markdown",
      "metadata": {
        "id": "coxwH5pwcjTg"
      },
      "source": [
        "## Dataset\n",
        "We will use the data of the Patch Camelyon (tupac16) Challenge. It consists of $327\\,680$ color images extracted from histopathologic scans of lymph node sections. The task is to classify the presence of metastatic tissue (global binary labels are given). The images were preprocessed to a spatial dimension of $48\\times48$ and split to 65k for training and 16k for testing images. See [here](https://www.kaggle.com/competitions/histopathologic-cancer-detection/overview) for further details."
      ]
    },
    {
      "cell_type": "code",
      "execution_count": 6,
      "metadata": {
        "id": "0kHfFFKUtcTY",
        "colab": {
          "base_uri": "https://localhost:8080/"
        },
        "outputId": "e50fbd25-316a-4dd0-aa1a-42ada7b7cbca"
      },
      "outputs": [
        {
          "output_type": "stream",
          "name": "stdout",
          "text": [
            "Collecting wget\n",
            "  Downloading wget-3.2.zip (10 kB)\n",
            "  Preparing metadata (setup.py) ... \u001b[?25l\u001b[?25hdone\n",
            "Building wheels for collected packages: wget\n",
            "  Building wheel for wget (setup.py) ... \u001b[?25l\u001b[?25hdone\n",
            "  Created wheel for wget: filename=wget-3.2-py3-none-any.whl size=9657 sha256=f7e848f4860ff65829d416d4b46626845000515053affe4a7d44901f285c93ba\n",
            "  Stored in directory: /root/.cache/pip/wheels/8b/f1/7f/5c94f0a7a505ca1c81cd1d9208ae2064675d97582078e6c769\n",
            "Successfully built wget\n",
            "Installing collected packages: wget\n",
            "Successfully installed wget-3.2\n"
          ]
        }
      ],
      "source": [
        "#loading the patch-based wholeslide histopathology data (uint8) and converting it to torch tensors\n",
        "from scipy.io import loadmat\n",
        "!pip install wget\n",
        "import wget\n",
        "import os\n",
        "\n",
        "dataset_url = 'https://cloud.imi.uni-luebeck.de/s/sjjiReHqSnokJ2n/download'\n",
        "\n",
        "def get_data(data_url):\n",
        "    filename = './patchCamelyon8c.mat'\n",
        "    if not os.path.exists(filename):\n",
        "        filename = wget.download(data_url)\n",
        "\n",
        "get_data(dataset_url)\n",
        "\n",
        "\n",
        "data = scipy.io.loadmat('patchCamelyon8c.mat')\n",
        "\n",
        "img_train = torch.from_numpy(data['img_train'].astype('float32')/255)\n",
        "img_test = torch.from_numpy(data['img_test'].astype('float32')/255)\n",
        "\n",
        "label_train = torch.from_numpy(data['label_train']).long()\n",
        "label_test = torch.from_numpy(data['label_test']).long()"
      ]
    },
    {
      "cell_type": "markdown",
      "metadata": {
        "id": "vfc1vm-AcjTj"
      },
      "source": [
        "Let's visualize an example for the two classes. You can run the cell multiple times, getting each time new random examples."
      ]
    },
    {
      "cell_type": "code",
      "execution_count": 9,
      "metadata": {
        "colab": {
          "base_uri": "https://localhost:8080/",
          "height": 344
        },
        "id": "1Qo6fpgEcjTk",
        "outputId": "fdd16d81-834d-476e-d949-d1502bb2b7e9"
      },
      "outputs": [
        {
          "output_type": "stream",
          "name": "stdout",
          "text": [
            "index for no metastatic tissue: 926\n",
            "index for metastatic tissue: 20000\n"
          ]
        },
        {
          "output_type": "display_data",
          "data": {
            "text/plain": [
              "<Figure size 640x480 with 2 Axes>"
            ],
            "image/png": "[encoded data removed]"
          },
          "metadata": {}
        }
      ],
      "source": [
        "fig, [ax1, ax2] = plt.subplots(1, 2)\n",
        "idx_negative = torch.where(label_train.squeeze() == 0)[0]\n",
        "idx_negative = idx_negative[torch.randperm(len(idx_negative))[0]]\n",
        "\n",
        "idx_positive = torch.where(label_train.squeeze() == 1)[0]\n",
        "idx_positive = idx_positive[torch.randperm(len(idx_positive))[0]]\n",
        "\n",
        "print('index for no metastatic tissue:', idx_negative.item())\n",
        "print('index for metastatic tissue:', idx_positive.item())\n",
        "\n",
        "ax1.imshow(img_train[idx_negative].permute(1, 2, 0))\n",
        "ax1.set_title('no metastatic tissue')\n",
        "ax2.imshow(img_train[idx_positive].permute(1, 2, 0))\n",
        "ax2.set_title('metastatic tissue')\n",
        "plt.show()"
      ]
    },
    {
      "cell_type": "markdown",
      "metadata": {
        "id": "Cdj_paAtcjTl"
      },
      "source": [
        "We load a pretrained `VGG11`, inspect its architecture and gather some computational information."
      ]
    },
    {
      "cell_type": "code",
      "execution_count": 10,
      "metadata": {
        "colab": {
          "base_uri": "https://localhost:8080/"
        },
        "id": "VKHf1__JtM6x",
        "outputId": "a174ff27-10b6-4a74-de5b-5d2053b54bc8"
      },
      "outputs": [
        {
          "output_type": "stream",
          "name": "stdout",
          "text": [
            "Collecting torchinfo\n",
            "  Downloading torchinfo-1.8.0-py3-none-any.whl (23 kB)\n",
            "Installing collected packages: torchinfo\n",
            "Successfully installed torchinfo-1.8.0\n"
          ]
        },
        {
          "output_type": "stream",
          "name": "stderr",
          "text": [
            "/usr/local/lib/python3.10/dist-packages/torchvision/models/_utils.py:208: UserWarning: The parameter 'pretrained' is deprecated since 0.13 and may be removed in the future, please use 'weights' instead.\n",
            "  warnings.warn(\n",
            "/usr/local/lib/python3.10/dist-packages/torchvision/models/_utils.py:223: UserWarning: Arguments other than a weight enum or `None` for 'weights' are deprecated since 0.13 and may be removed in the future. The current behavior is equivalent to passing `weights=VGG11_BN_Weights.IMAGENET1K_V1`. You can also use `weights=VGG11_BN_Weights.DEFAULT` to get the most up-to-date weights.\n",
            "  warnings.warn(msg)\n",
            "Downloading: \"https://download.pytorch.org/models/vgg11_bn-6002323d.pth\" to /root/.cache/torch/hub/checkpoints/vgg11_bn-6002323d.pth\n",
            "100%|██████████| 507M/507M [00:01<00:00, 273MB/s]\n"
          ]
        },
        {
          "output_type": "execute_result",
          "data": {
            "text/plain": [
              "==========================================================================================\n",
              "Layer (type:depth-idx)                   Output Shape              Param #\n",
              "==========================================================================================\n",
              "VGG                                      [128, 1000]               --\n",
              "├─Sequential: 1-1                        [128, 512, 1, 1]          --\n",
              "│    └─Conv2d: 2-1                       [128, 64, 48, 48]         1,792\n",
              "│    └─BatchNorm2d: 2-2                  [128, 64, 48, 48]         128\n",
              "│    └─ReLU: 2-3                         [128, 64, 48, 48]         --\n",
              "│    └─MaxPool2d: 2-4                    [128, 64, 24, 24]         --\n",
              "│    └─Conv2d: 2-5                       [128, 128, 24, 24]        73,856\n",
              "│    └─BatchNorm2d: 2-6                  [128, 128, 24, 24]        256\n",
              "│    └─ReLU: 2-7                         [128, 128, 24, 24]        --\n",
              "│    └─MaxPool2d: 2-8                    [128, 128, 12, 12]        --\n",
              "│    └─Conv2d: 2-9                       [128, 256, 12, 12]        295,168\n",
              "│    └─BatchNorm2d: 2-10                 [128, 256, 12, 12]        512\n",
              "│    └─ReLU: 2-11                        [128, 256, 12, 12]        --\n",
              "│    └─Conv2d: 2-12                      [128, 256, 12, 12]        590,080\n",
              "│    └─BatchNorm2d: 2-13                 [128, 256, 12, 12]        512\n",
              "│    └─ReLU: 2-14                        [128, 256, 12, 12]        --\n",
              "│    └─MaxPool2d: 2-15                   [128, 256, 6, 6]          --\n",
              "│    └─Conv2d: 2-16                      [128, 512, 6, 6]          1,180,160\n",
              "│    └─BatchNorm2d: 2-17                 [128, 512, 6, 6]          1,024\n",
              "│    └─ReLU: 2-18                        [128, 512, 6, 6]          --\n",
              "│    └─Conv2d: 2-19                      [128, 512, 6, 6]          2,359,808\n",
              "│    └─BatchNorm2d: 2-20                 [128, 512, 6, 6]          1,024\n",
              "│    └─ReLU: 2-21                        [128, 512, 6, 6]          --\n",
              "│    └─MaxPool2d: 2-22                   [128, 512, 3, 3]          --\n",
              "│    └─Conv2d: 2-23                      [128, 512, 3, 3]          2,359,808\n",
              "│    └─BatchNorm2d: 2-24                 [128, 512, 3, 3]          1,024\n",
              "│    └─ReLU: 2-25                        [128, 512, 3, 3]          --\n",
              "│    └─Conv2d: 2-26                      [128, 512, 3, 3]          2,359,808\n",
              "│    └─BatchNorm2d: 2-27                 [128, 512, 3, 3]          1,024\n",
              "│    └─ReLU: 2-28                        [128, 512, 3, 3]          --\n",
              "│    └─MaxPool2d: 2-29                   [128, 512, 1, 1]          --\n",
              "├─AdaptiveAvgPool2d: 1-2                 [128, 512, 7, 7]          --\n",
              "├─Sequential: 1-3                        [128, 1000]               --\n",
              "│    └─Linear: 2-30                      [128, 4096]               102,764,544\n",
              "│    └─ReLU: 2-31                        [128, 4096]               --\n",
              "│    └─Dropout: 2-32                     [128, 4096]               --\n",
              "│    └─Linear: 2-33                      [128, 4096]               16,781,312\n",
              "│    └─ReLU: 2-34                        [128, 4096]               --\n",
              "│    └─Dropout: 2-35                     [128, 4096]               --\n",
              "│    └─Linear: 2-36                      [128, 1000]               4,097,000\n",
              "==========================================================================================\n",
              "Total params: 132,868,840\n",
              "Trainable params: 132,868,840\n",
              "Non-trainable params: 0\n",
              "Total mult-adds (G): 59.87\n",
              "==========================================================================================\n",
              "Input size (MB): 3.54\n",
              "Forward/backward pass size (MB): 707.76\n",
              "Params size (MB): 531.48\n",
              "Estimated Total Size (MB): 1242.78\n",
              "=========================================================================================="
            ]
          },
          "metadata": {},
          "execution_count": 10
        }
      ],
      "source": [
        "!pip install torchinfo\n",
        "from torchinfo import summary\n",
        "net = torchvision.models.vgg11_bn(pretrained='True')\n",
        "\n",
        "summary(net, (128, 3, 48, 48))"
      ]
    },
    {
      "cell_type": "markdown",
      "metadata": {
        "id": "XfC5stkxcjTv"
      },
      "source": [
        "## Task 0 (15 points): Modify a pretrained VGG11_BN network for the given training data\n",
        "Complete the function below, which returns a VGG11-Net with its architecture modified accordingly to match the tupac16 dataset.\n",
        "+ Replace the layer `net.avgpool` with an adaptive average pool of output size $1\\times1$\n",
        "+ Create a new classifier as `nn.Sequential` with two linear layers ($512\\times256$ and $256\\times2$) including one ReLU and no batch-norm."
      ]
    },
    {
      "cell_type": "code",
      "execution_count": 11,
      "metadata": {
        "id": "8pmjxtAZcjTw"
      },
      "outputs": [],
      "source": [
        "def tupac16_vgg11():\n",
        "    net = torchvision.models.vgg11_bn(pretrained='True')\n",
        "    net.avgpool = nn.AdaptiveAvgPool2d((1, 1))\n",
        "    net.classifier = nn.Sequential(\n",
        "        nn.Linear(512,256),\n",
        "        nn.Linear(256,2),\n",
        "        nn.ReLU()\n",
        "    )\n",
        "\n",
        "    return net"
      ]
    },
    {
      "cell_type": "markdown",
      "metadata": {
        "id": "8H5XnIXmcjTy"
      },
      "source": [
        "Check the reduced parameter count using `summary` from `torchinfo`. Your should obtain about $9\\,357\\,826$ parameters."
      ]
    },
    {
      "cell_type": "code",
      "execution_count": 58,
      "metadata": {
        "colab": {
          "base_uri": "https://localhost:8080/"
        },
        "id": "eomZ9IGicjTz",
        "outputId": "c35101d8-d548-4f44-d762-f8d2b7dce02c"
      },
      "outputs": [
        {
          "output_type": "stream",
          "name": "stderr",
          "text": [
            "/usr/local/lib/python3.10/dist-packages/torchvision/models/_utils.py:208: UserWarning: The parameter 'pretrained' is deprecated since 0.13 and may be removed in the future, please use 'weights' instead.\n",
            "  warnings.warn(\n",
            "/usr/local/lib/python3.10/dist-packages/torchvision/models/_utils.py:223: UserWarning: Arguments other than a weight enum or `None` for 'weights' are deprecated since 0.13 and may be removed in the future. The current behavior is equivalent to passing `weights=VGG11_BN_Weights.IMAGENET1K_V1`. You can also use `weights=VGG11_BN_Weights.DEFAULT` to get the most up-to-date weights.\n",
            "  warnings.warn(msg)\n"
          ]
        },
        {
          "output_type": "execute_result",
          "data": {
            "text/plain": [
              "=================================================================\n",
              "Layer (type:depth-idx)                   Param #\n",
              "=================================================================\n",
              "VGG                                      --\n",
              "├─Sequential: 1-1                        --\n",
              "│    └─Conv2d: 2-1                       1,792\n",
              "│    └─BatchNorm2d: 2-2                  128\n",
              "│    └─ReLU: 2-3                         --\n",
              "│    └─MaxPool2d: 2-4                    --\n",
              "│    └─Conv2d: 2-5                       73,856\n",
              "│    └─BatchNorm2d: 2-6                  256\n",
              "│    └─ReLU: 2-7                         --\n",
              "│    └─MaxPool2d: 2-8                    --\n",
              "│    └─Conv2d: 2-9                       295,168\n",
              "│    └─BatchNorm2d: 2-10                 512\n",
              "│    └─ReLU: 2-11                        --\n",
              "│    └─Conv2d: 2-12                      590,080\n",
              "│    └─BatchNorm2d: 2-13                 512\n",
              "│    └─ReLU: 2-14                        --\n",
              "│    └─MaxPool2d: 2-15                   --\n",
              "│    └─Conv2d: 2-16                      1,180,160\n",
              "│    └─BatchNorm2d: 2-17                 1,024\n",
              "│    └─ReLU: 2-18                        --\n",
              "│    └─Conv2d: 2-19                      2,359,808\n",
              "│    └─BatchNorm2d: 2-20                 1,024\n",
              "│    └─ReLU: 2-21                        --\n",
              "│    └─MaxPool2d: 2-22                   --\n",
              "│    └─Conv2d: 2-23                      2,359,808\n",
              "│    └─BatchNorm2d: 2-24                 1,024\n",
              "│    └─ReLU: 2-25                        --\n",
              "│    └─Conv2d: 2-26                      2,359,808\n",
              "│    └─BatchNorm2d: 2-27                 1,024\n",
              "│    └─ReLU: 2-28                        --\n",
              "│    └─MaxPool2d: 2-29                   --\n",
              "├─AdaptiveAvgPool2d: 1-2                 --\n",
              "├─Sequential: 1-3                        --\n",
              "│    └─Linear: 2-30                      131,328\n",
              "│    └─Linear: 2-31                      514\n",
              "│    └─ReLU: 2-32                        --\n",
              "=================================================================\n",
              "Total params: 9,357,826\n",
              "Trainable params: 9,357,826\n",
              "Non-trainable params: 0\n",
              "================================================================="
            ]
          },
          "metadata": {},
          "execution_count": 58
        }
      ],
      "source": [
        "model = tupac16_vgg11()\n",
        "summary(model)"
      ]
    },
    {
      "cell_type": "markdown",
      "metadata": {
        "id": "HVeA6LHccjTz"
      },
      "source": [
        "## Task1 (25 points): Fine tuning\n",
        "Fine-tune this network for 16 sub-epochs on the tupac16 dataset. One sub-epoch is defined as a random quarter of the training pathes. Use `torch.randperm` to generate the needed indices for every epoch. The batch size should be 128. Choose Adam as an optimizer with an initial learning rate of 0.0005 and an exponential learning rate scheduler with `gamma=0.9`. After training, evaluate the model on the test data. It should yield an accuracy about $94\\%$.\n",
        "\n",
        "**Note:** Task 2 and 3 can be performed independently, but you should store each trained network under a new filename (for comparisons). In the following all techniques should only be applied to the feature-part of the network (and not the classifier layers).\n",
        "\n",
        "**Hint**: If you struggle with implementing of the training routine, have a look at the previous exercises."
      ]
    },
    {
      "cell_type": "code",
      "execution_count": 13,
      "metadata": {
        "colab": {
          "base_uri": "https://localhost:8080/",
          "height": 633,
          "referenced_widgets": [
            "defe72ada60243b09d430fb50808a9ed",
            "8f82921cd4c24ffcb4be7ba85c622c18",
            "141304a87af44b6e8ef77ca2ece4f655",
            "b812feca6ae54662b7797cfb9e4e5728",
            "48d14f23003344d9954de7cad7c3c2b2",
            "911357ea8f874a04be0e9305e62c7ae8",
            "d38eabb6e8f641ff9053a6c4fbd14ca8",
            "85189c1462e04be2aca0c0e9c0de1478",
            "3211c61309fb4d61be9ad6d870dcb967",
            "f5f487f402504486ba0cf4363a14754f",
            "1d214740a5a44cd19068e58bdf7f5b20"
          ]
        },
        "id": "mqKw4fzMVd4Q",
        "outputId": "82ba05b8-097b-4a64-ba4d-a7cedd56d325"
      },
      "outputs": [
        {
          "output_type": "display_data",
          "data": {
            "text/plain": [
              "  0%|          | 0/16 [00:00<?, ?epoch/s]"
            ],
            "application/vnd.jupyter.widget-view+json": {
              "version_major": 2,
              "version_minor": 0,
              "model_id": "defe72ada60243b09d430fb50808a9ed"
            }
          },
          "metadata": {}
        },
        {
          "output_type": "stream",
          "name": "stdout",
          "text": [
            "Epoch 0 (train) -- loss: 0.3354 accuracy: 0.8542\n",
            "Epoch 0 (valid) -- loss: 0.3227 accuracy: 0.8745\n",
            "Epoch 1 (train) -- loss: 0.2543 accuracy: 0.8965\n",
            "Epoch 1 (valid) -- loss: 0.2821 accuracy: 0.8878\n",
            "Epoch 2 (train) -- loss: 0.2165 accuracy: 0.9162\n",
            "Epoch 2 (valid) -- loss: 0.2633 accuracy: 0.8895\n",
            "Epoch 3 (train) -- loss: 0.1874 accuracy: 0.9296\n",
            "Epoch 3 (valid) -- loss: 0.2491 accuracy: 0.8995\n",
            "Epoch 4 (train) -- loss: 0.1563 accuracy: 0.9397\n",
            "Epoch 4 (valid) -- loss: 0.2308 accuracy: 0.9122\n",
            "Epoch 5 (train) -- loss: 0.1421 accuracy: 0.9472\n",
            "Epoch 5 (valid) -- loss: 0.2803 accuracy: 0.9119\n",
            "Epoch 6 (train) -- loss: 0.1221 accuracy: 0.9567\n",
            "Epoch 6 (valid) -- loss: 0.2729 accuracy: 0.9035\n",
            "Epoch 7 (train) -- loss: 0.1052 accuracy: 0.9623\n",
            "Epoch 7 (valid) -- loss: 0.2085 accuracy: 0.9288\n",
            "Epoch 8 (train) -- loss: 0.0894 accuracy: 0.9676\n",
            "Epoch 8 (valid) -- loss: 0.2524 accuracy: 0.9113\n",
            "Epoch 9 (train) -- loss: 0.0706 accuracy: 0.9769\n",
            "Epoch 9 (valid) -- loss: 0.2241 accuracy: 0.9273\n",
            "Epoch 10 (train) -- loss: 0.0624 accuracy: 0.9805\n",
            "Epoch 10 (valid) -- loss: 0.2204 accuracy: 0.9315\n",
            "Epoch 11 (train) -- loss: 0.0502 accuracy: 0.9826\n",
            "Epoch 11 (valid) -- loss: 0.2094 accuracy: 0.9348\n",
            "Epoch 12 (train) -- loss: 0.0430 accuracy: 0.9863\n",
            "Epoch 12 (valid) -- loss: 0.2101 accuracy: 0.9369\n",
            "Epoch 13 (train) -- loss: 0.0383 accuracy: 0.9869\n",
            "Epoch 13 (valid) -- loss: 0.2342 accuracy: 0.9350\n",
            "Epoch 14 (train) -- loss: 0.0298 accuracy: 0.9905\n",
            "Epoch 14 (valid) -- loss: 0.2263 accuracy: 0.9385\n",
            "Epoch 15 (train) -- loss: 0.0226 accuracy: 0.9935\n",
            "Epoch 15 (valid) -- loss: 0.2412 accuracy: 0.9360\n"
          ]
        }
      ],
      "source": [
        "# Task1 - Training loop # hier war nichts gegeben, hab ich von ex 4 übernommen\n",
        "from torch.utils.data import DataLoader, TensorDataset\n",
        "from tqdm.notebook import trange, tqdm\n",
        "\n",
        "test_dataset = TensorDataset(img_test, label_test[0])\n",
        "dl_test = DataLoader(test_dataset, batch_size=128, shuffle=True)\n",
        "\n",
        "model.to(device)\n",
        "\n",
        "num_epochs = 16\n",
        "\n",
        "# optimizer\n",
        "optimizer = torch.optim.Adam(model.parameters(), lr= 0.0005)\n",
        "\n",
        "# learning rate scheduler\n",
        "lr_scheduler = torch.optim.lr_scheduler.ExponentialLR(optimizer, gamma=0.9)\n",
        "\n",
        "# criterion\n",
        "criterion = torch.nn.CrossEntropyLoss()\n",
        "\n",
        "# for reproducibility (do not change)\n",
        "torch.manual_seed(0)\n",
        "\n",
        "# statistics\n",
        "train_loss = torch.zeros(num_epochs, device=device)\n",
        "train_acc = torch.zeros_like(train_loss)\n",
        "\n",
        "test_loss = torch.zeros_like(train_loss)\n",
        "test_acc = torch.zeros_like(train_loss)\n",
        "\n",
        "# for num_epochs\n",
        "for epoch in trange(num_epochs, unit='epoch'):\n",
        "\n",
        "    # Generate random indices for a quarter of the training paths\n",
        "    quarter = len(img_train) // 4\n",
        "    indices = torch.randperm(len(img_train))[:quarter]\n",
        "\n",
        "    # Subset the dataset using the generated indices\n",
        "    train_dataset = TensorDataset(img_train, label_train[0])\n",
        "\n",
        "    subset_dataset = torch.utils.data.Subset(train_dataset, indices)\n",
        "\n",
        "    # Create a data loader for the subset of data\n",
        "    dl_train = DataLoader(subset_dataset, batch_size=128, shuffle=True)\n",
        "\n",
        "    # train mode\n",
        "    model.train()\n",
        "\n",
        "    # for each mini-batch\n",
        "    for input, target in dl_train:\n",
        "        input = input.to(device)\n",
        "        target = target.to(device)\n",
        "\n",
        "        # zero the parameter gradients\n",
        "        # todo\n",
        "        optimizer.zero_grad()\n",
        "\n",
        "        # forward + backward + optimize\n",
        "        # todo\n",
        "        output = model(input)\n",
        "        loss = criterion(output, target)\n",
        "        loss.backward()\n",
        "        optimizer.step()\n",
        "\n",
        "        # statistics\n",
        "        train_loss[epoch] += loss.detach()\n",
        "        train_acc[epoch] += torch.mean((torch.argmax(output, dim=-1) == target).float())\n",
        "\n",
        "    # update learning rate\n",
        "    # todo\n",
        "    lr_scheduler.step()\n",
        "\n",
        "    train_loss[epoch] /= len(dl_train)\n",
        "    train_acc[epoch] /= len(dl_train)\n",
        "\n",
        "    # output\n",
        "    tqdm.write('Epoch {} (train) -- loss: {:.4f} accuracy: {:.4f}'.format(epoch, train_loss[epoch].item(), train_acc[epoch].item()))\n",
        "\n",
        "    # validate\n",
        "    with torch.no_grad():\n",
        "\n",
        "        # eval mode\n",
        "        model.eval()\n",
        "\n",
        "        # for each mini-batch\n",
        "        for input, target in dl_test:\n",
        "            input = input.to(device)\n",
        "            target = target.to(device)\n",
        "\n",
        "            # forward\n",
        "            # todo\n",
        "            output = model(input)\n",
        "            loss = criterion(output, target)\n",
        "\n",
        "            # statistics\n",
        "            test_loss[epoch] += loss.detach()\n",
        "            test_acc[epoch] += torch.mean((torch.argmax(output, dim=-1) == target).float())\n",
        "\n",
        "        test_loss[epoch] /= len(dl_test)\n",
        "        test_acc[epoch] /= len(dl_test)\n",
        "\n",
        "        # output\n",
        "        tqdm.write('Epoch {} (valid) -- loss: {:.4f} accuracy: {:.4f}'.format(epoch, test_loss[epoch].item(), test_acc[epoch].item()))\n",
        "\n",
        "# save trained network as tupac16_ex1.pt\n",
        "torch.save(model, 'tupac16_ex1.pth')"
      ]
    },
    {
      "cell_type": "markdown",
      "metadata": {
        "id": "iFs7e-4dcjT0"
      },
      "source": [
        "## Task 2 (60 points): Network Pruning through increased Sparsity\n",
        "+ Start with the same modified, pre-trained (not fine-tuned) vgg11_bn as before by calling your `tupac16_vgg11` method.\n",
        "+ Reuse the training routine from above.\n",
        "+ Add a sparsity promoting L1-loss (sum of absolute values) with a weight factor of 0.04 to the classification loss on the weights and bias of each BatchNorm2d.\n",
        "    + Therefor iterate over all modules of the net using `modules()` and determine the layer type using `isinstance()`\n",
        "+ Retrain the network.\n",
        "+ Evaluate its test accuracy (will drop slightly to ~89%)."
      ]
    },
    {
      "cell_type": "code",
      "execution_count": 14,
      "metadata": {
        "id": "cQ_t4M4WEMcv"
      },
      "outputs": [],
      "source": [
        "def l1_sparse_loss(layer):\n",
        "    #print('l1_sparse_loss:', torch.sum(abs(layer.weight))+torch.sum(abs(layer.bias)))\n",
        "    return torch.sum(abs(layer.weight)) + torch.sum(abs(layer.bias))"
      ]
    },
    {
      "cell_type": "code",
      "execution_count": 15,
      "metadata": {
        "id": "nLFzc3vmm-qi",
        "colab": {
          "base_uri": "https://localhost:8080/",
          "height": 633,
          "referenced_widgets": [
            "9631ec5b61904d7983ce32cc126b34be",
            "bfdbb42c31ef479ab4edb169d81053de",
            "355c2e5686754cae83ff42978ce34862",
            "51f314ad9df647f682015031dd3ef4a6",
            "5c953bcbb93745f890650e7a9f999601",
            "032ddc1feb104aecbd24e2193dcaaedf",
            "e45c62fc05964a3a8cd9b8f2c8a141d4",
            "b2be787a5a93446394bf59f1ffe05434",
            "c8e3e4336cf642a2a14b8de535234031",
            "e295ae2d4a2c47de9f901c41067d3d2f",
            "e6f45dea57e44d62bf0088c782b4aa71"
          ]
        },
        "outputId": "7765a7d3-e52f-402d-8aa2-9faf94b7c763"
      },
      "outputs": [
        {
          "output_type": "display_data",
          "data": {
            "text/plain": [
              "  0%|          | 0/16 [00:00<?, ?epoch/s]"
            ],
            "application/vnd.jupyter.widget-view+json": {
              "version_major": 2,
              "version_minor": 0,
              "model_id": "9631ec5b61904d7983ce32cc126b34be"
            }
          },
          "metadata": {}
        },
        {
          "output_type": "stream",
          "name": "stdout",
          "text": [
            "Epoch 0 (train) -- loss: 74.5207 accuracy: 0.8463\n",
            "Epoch 0 (valid) -- loss: 67.6514 accuracy: 0.8700\n",
            "Epoch 1 (train) -- loss: 61.6988 accuracy: 0.8908\n",
            "Epoch 1 (valid) -- loss: 55.8175 accuracy: 0.8922\n",
            "Epoch 2 (train) -- loss: 50.7447 accuracy: 0.9073\n",
            "Epoch 2 (valid) -- loss: 45.8317 accuracy: 0.8755\n",
            "Epoch 3 (train) -- loss: 41.5804 accuracy: 0.9147\n",
            "Epoch 3 (valid) -- loss: 37.5684 accuracy: 0.8793\n",
            "Epoch 4 (train) -- loss: 34.1999 accuracy: 0.9131\n",
            "Epoch 4 (valid) -- loss: 31.1628 accuracy: 0.8649\n",
            "Epoch 5 (train) -- loss: 28.6785 accuracy: 0.9105\n",
            "Epoch 5 (valid) -- loss: 26.6261 accuracy: 0.8403\n",
            "Epoch 6 (train) -- loss: 24.7846 accuracy: 0.9131\n",
            "Epoch 6 (valid) -- loss: 23.2653 accuracy: 0.9025\n",
            "Epoch 7 (train) -- loss: 22.0503 accuracy: 0.9117\n",
            "Epoch 7 (valid) -- loss: 21.0951 accuracy: 0.8442\n",
            "Epoch 8 (train) -- loss: 20.0200 accuracy: 0.9143\n",
            "Epoch 8 (valid) -- loss: 19.1881 accuracy: 0.8917\n",
            "Epoch 9 (train) -- loss: 18.4058 accuracy: 0.9202\n",
            "Epoch 9 (valid) -- loss: 17.7443 accuracy: 0.8980\n",
            "Epoch 10 (train) -- loss: 17.0818 accuracy: 0.9232\n",
            "Epoch 10 (valid) -- loss: 16.5259 accuracy: 0.9043\n",
            "Epoch 11 (train) -- loss: 15.9724 accuracy: 0.9221\n",
            "Epoch 11 (valid) -- loss: 15.5646 accuracy: 0.8820\n",
            "Epoch 12 (train) -- loss: 15.0112 accuracy: 0.9287\n",
            "Epoch 12 (valid) -- loss: 14.6091 accuracy: 0.9059\n",
            "Epoch 13 (train) -- loss: 14.1688 accuracy: 0.9313\n",
            "Epoch 13 (valid) -- loss: 13.8282 accuracy: 0.9074\n",
            "Epoch 14 (train) -- loss: 13.4457 accuracy: 0.9330\n",
            "Epoch 14 (valid) -- loss: 13.1856 accuracy: 0.9006\n",
            "Epoch 15 (train) -- loss: 12.8072 accuracy: 0.9368\n",
            "Epoch 15 (valid) -- loss: 12.5933 accuracy: 0.9060\n"
          ]
        }
      ],
      "source": [
        "# Task 2\n",
        "model = tupac16_vgg11()\n",
        "\n",
        "# Task1 - Training loop # hier war nichts gegeben, hab ich von ex 4 übernommen\n",
        "from torch.utils.data import DataLoader, TensorDataset\n",
        "from tqdm.notebook import trange, tqdm\n",
        "\n",
        "test_dataset = TensorDataset(img_test, label_test[0])\n",
        "dl_test = DataLoader(test_dataset, batch_size=128, shuffle=True)\n",
        "\n",
        "model.to(device)\n",
        "\n",
        "num_epochs = 16\n",
        "\n",
        "# optimizer\n",
        "optimizer = torch.optim.Adam(model.parameters(), lr= 0.0005)\n",
        "\n",
        "# learning rate scheduler\n",
        "lr_scheduler = torch.optim.lr_scheduler.ExponentialLR(optimizer, gamma=0.9)\n",
        "\n",
        "# criterion\n",
        "criterion = torch.nn.CrossEntropyLoss()\n",
        "\n",
        "# for reproducibility (do not change)\n",
        "torch.manual_seed(0)\n",
        "\n",
        "# statistics\n",
        "train_loss = torch.zeros(num_epochs, device=device)\n",
        "train_acc = torch.zeros_like(train_loss)\n",
        "\n",
        "test_loss = torch.zeros_like(train_loss)\n",
        "test_acc = torch.zeros_like(train_loss)\n",
        "\n",
        "# for num_epochs\n",
        "for epoch in trange(num_epochs, unit='epoch'):\n",
        "\n",
        "    # Generate random indices for a quarter of the training paths\n",
        "    quarter = len(img_train) // 4\n",
        "    indices = torch.randperm(len(img_train))[:quarter]\n",
        "\n",
        "    # Subset the dataset using the generated indices\n",
        "    train_dataset = TensorDataset(img_train, label_train[0])\n",
        "\n",
        "    subset_dataset = torch.utils.data.Subset(train_dataset, indices)\n",
        "\n",
        "    # Create a data loader for the subset of data\n",
        "    dl_train = DataLoader(subset_dataset, batch_size=128, shuffle=True)\n",
        "\n",
        "    # train mode\n",
        "    model.train()\n",
        "\n",
        "    # for each mini-batch\n",
        "    for input, target in dl_train:\n",
        "        input = input.to(device)\n",
        "        target = target.to(device)\n",
        "\n",
        "        # zero the parameter gradients\n",
        "        # todo\n",
        "        optimizer.zero_grad()\n",
        "\n",
        "        # forward + backward + optimize\n",
        "        # todo\n",
        "        output = model(input)\n",
        "        loss = criterion(output, target)\n",
        "        for i in model.modules():\n",
        "             if isinstance(i, nn.BatchNorm2d):\n",
        "                loss += 0.04 * l1_sparse_loss(i)\n",
        "        loss.backward()\n",
        "        optimizer.step()\n",
        "\n",
        "        # statistics\n",
        "        train_loss[epoch] += loss.detach()\n",
        "        train_acc[epoch] += torch.mean((torch.argmax(output, dim=-1) == target).float())\n",
        "\n",
        "    # update learning rate\n",
        "    # todo\n",
        "    lr_scheduler.step()\n",
        "\n",
        "    train_loss[epoch] /= len(dl_train)\n",
        "    train_acc[epoch] /= len(dl_train)\n",
        "\n",
        "    # output\n",
        "    tqdm.write('Epoch {} (train) -- loss: {:.4f} accuracy: {:.4f}'.format(epoch, train_loss[epoch].item(), train_acc[epoch].item()))\n",
        "\n",
        "    # validate\n",
        "    with torch.no_grad():\n",
        "\n",
        "        # eval mode\n",
        "        model.eval()\n",
        "\n",
        "        # for each mini-batch\n",
        "        for input, target in dl_test:\n",
        "            input = input.to(device)\n",
        "            target = target.to(device)\n",
        "\n",
        "            # forward\n",
        "            # todo\n",
        "            output = model(input)\n",
        "            loss = criterion(output, target)\n",
        "            for i in model.modules():\n",
        "             if isinstance(i, nn.BatchNorm2d):\n",
        "                loss += 0.04 * l1_sparse_loss(i)\n",
        "\n",
        "            # statistics\n",
        "            test_loss[epoch] += loss.detach()\n",
        "            test_acc[epoch] += torch.mean((torch.argmax(output, dim=-1) == target).float())\n",
        "\n",
        "        test_loss[epoch] /= len(dl_test)\n",
        "        test_acc[epoch] /= len(dl_test)\n",
        "\n",
        "        # output\n",
        "        tqdm.write('Epoch {} (valid) -- loss: {:.4f} accuracy: {:.4f}'.format(epoch, test_loss[epoch].item(), test_acc[epoch].item()))\n",
        "\n",
        "# save trained network as tupac16_ex1.pt\n",
        "torch.save(model, 'tupac16_ex2.pth')\n",
        "\n",
        "# todo"
      ]
    },
    {
      "cell_type": "markdown",
      "metadata": {
        "id": "Wr5wVHyMcjT2"
      },
      "source": [
        "Write a function that determines a threshold for input/output neurons to be set to zero (the ones which have been reduced in absolute value using the sparsity constraint). You can use the function `topk`, which outputs both the values and indices sorted around a chosen quantile/percentile. Here we simply use the median to set 50% of values to zero.\n",
        "\n",
        "When applied correctly (as incoming & outgoing mask) for each Conv2d layer, it reduces the nonzero parameters by ~75% (the first incoming & last outgoing Conv2d are not masked).\n",
        "Note that BatchNorm has four tensors and two index masks have to be applied as follows:\n",
        "\n",
        "`B = A[idx_next,:,:,:][:,idx_prev,:,:]`\n",
        "\n",
        "Now you can replace all Conv2d and BatchNorm2d layers with smaller filters (and copy their weights) so that we have the following sequence of channels: 3, 32, 64, (2x)128, (3x)256, 512.\n",
        "Evaluate the slimmed network (you could observe a slight improvement to ~92%) and confirm that the required computations are reduced to 12 GFlops."
      ]
    },
    {
      "cell_type": "code",
      "execution_count": 19,
      "metadata": {
        "id": "8Ta8Xn7dEMcx"
      },
      "outputs": [],
      "source": [
        "def determine_threshold(features):\n",
        "  # Calculate the threshold value using the median\n",
        "  median = int(torch.median(features))\n",
        "  threshold = (features <= median).float() #here we simply use the median to set 50% of values to zero as written in the text\n",
        "  return threshold\n",
        "\n",
        "  #idx = torch.median(len(features))\n",
        "  #selected_values = torch.topk(features, idx)"
      ]
    },
    {
      "cell_type": "code",
      "execution_count": 61,
      "metadata": {
        "colab": {
          "base_uri": "https://localhost:8080/"
        },
        "id": "y0DMYXwivPPe",
        "outputId": "cdf378cf-f167-4310-e03f-cd2e75fb1daa"
      },
      "outputs": [
        {
          "output_type": "stream",
          "name": "stdout",
          "text": [
            "#params before 9225984\n",
            "#features sparsity tensor(0., device='cuda:0')\n",
            "#params after 326528\n",
            "#features sparsity tensor(0.)\n",
            "val_acc: tensor(0.4053, device='cuda:0')\n"
          ]
        }
      ],
      "source": [
        "# task 2 Network slimming (construct lean filters)\n",
        "\n",
        "sparsity_s = 0.04\n",
        "ternary = False\n",
        "\n",
        "model_name = 'tupac16_ex2.pth'\n",
        "\n",
        "net = torch.load(model_name)\n",
        "\n",
        "net.eval()\n",
        "net.to(device)\n",
        "\n",
        "mask = torch.ones(3).to(device)\n",
        "idx_prev = torch.arange(3).long().to(device)\n",
        "q75 = 0.5\n",
        "print('#params before',countParameters(net.features))\n",
        "print('#features sparsity',countSparsity(net.features))\n",
        "\n",
        "#added list of filer elements\n",
        "smaller_filter = [3, 32, 64, 128, 128, 256, 256, 256, 512]\n",
        "counter_conv = 0\n",
        "counter_batch = 0\n",
        "\n",
        "for c in range(len(net.features)-2):\n",
        "    if isinstance(net.features[c], nn.Conv2d):\n",
        "        if(c==25):\n",
        "          q75=1\n",
        "        #apply threshold for each Conv2d layer - todo does not change countParameters\n",
        "        weight = torch.abs(net.features[c].weight) * sparsity_s #apply threshold to the ones that has been reduced in absolute value using the sparsity constraint\n",
        "        mask = determine_threshold(weight)\n",
        "        weight = torch.multiply(weight, mask)\n",
        "        net.features[c].weight.data = weight\n",
        "\n",
        "        #replace all Conv2d layers with smaller filters - smaller_filter list with parameters see above\n",
        "        net.features[c] = nn.Conv2d(smaller_filter[counter_conv], smaller_filter[counter_conv+1], kernel_size=1)\n",
        "        counter_conv += 1\n",
        "\n",
        "    #replace all BatchNorm2d layers with smaller filters\n",
        "    if isinstance(net.features[c], nn.BatchNorm2d):\n",
        "      net.features[c] = nn.BatchNorm2d(smaller_filter[counter_batch+1])\n",
        "      counter_batch += 1\n",
        "\n",
        "# evaluation for task 2\n",
        "print('#params after',countParameters(net.features))\n",
        "print('#features sparsity',countSparsity(net.features))\n",
        "\n",
        "idx_epoch = torch.arange(16384).view(128,-1)\n",
        "val_acc = 0\n",
        "\n",
        "for iter in range(idx_epoch.size(1)):\n",
        "    idx_iter = idx_epoch[:,iter]\n",
        "\n",
        "    with torch.no_grad():\n",
        "        #forward path and loss\n",
        "        net.to(device)\n",
        "        idx_iter.to(device)\n",
        "        outputs = net(img_test[idx_iter,:,:,:].to(device))\n",
        "    val_acc += torch.sum((outputs.argmax(1).to(device)==label_test[0,idx_iter].to(device)).float())/16384.0\n",
        "\n",
        "print(\"val_acc:\", val_acc)"
      ]
    },
    {
      "cell_type": "markdown",
      "metadata": {
        "id": "VJvTp6YZcjT4"
      },
      "source": [
        "## Bonus Task - Ternary Nets:\n",
        "Start with the same modified, pre-trained (not fine-tuned) vgg11_bn as before. Finally, we want to explore, how the memory storage can be reduced with little loss. Here a ternary weight approximation will be used for which we first estimate a per-channel $\\Delta$ for each weight in Conv2d given the rule-of-thumb below.\n",
        "\n",
        "$\\begin{align}\n",
        "    \\Delta &= \\frac{0.7}{n}\\sum^n_{i=1}|W_i|\\\\\n",
        "    \\tilde{W}_i&=\n",
        "    \\begin{cases}\n",
        "        +1, &\\text{ if } W_i > \\Delta\\\\\n",
        "        0,  &\\text{ if } |W_i| \\leq \\Delta\\\\\n",
        "        -1,  &\\text{ else }\n",
        "    \\end{cases}\\\\\n",
        "    n_\\Delta &= \\sum_i|\\tilde{W}_i|\\\\\n",
        "    \\alpha &= \\frac{1}{n_\\Delta}\\sum_i|\\tilde{W}_i||W_i|\n",
        "\\end{align}$\n",
        "\n",
        "Tip: after calculating the absolute values the mean has to be computed over all but the 0-th dimension.\n",
        "The obtained ternary weights have lost their magnitude, therefore the parameter $\\alpha$ (again per-channel) is computed and multiplied with the weight tensor.\n",
        "\n",
        "Test your function with the check implemented below. For a $128\\times64\\times3\\times3$ kernel the number of unique entries is reduced from more than 70 thousand to just 257 ($2 \\cdot 128 + 1$)."
      ]
    },
    {
      "cell_type": "code",
      "execution_count": null,
      "metadata": {
        "id": "Q4ay90rCv3gi"
      },
      "outputs": [],
      "source": [
        "# template for function in bonus task\n",
        "def approx_weights(w_in,flag=True):\n",
        "    if(flag):\n",
        "        with torch.no_grad():\n",
        "            a,b,c,d = w_in.size()\n",
        "            delta = # todo\n",
        "            alpha = # todo\n",
        "            w_out = # todo\n",
        "    else:\n",
        "        w_out = w_in\n",
        "    return w_out\n",
        "\n",
        "# check the number of unique values before/after ternary approximation\n",
        "w_in = net.features[8].weight.clone().detach()\n",
        "w_approx = approx_weights(w_in,True)\n",
        "print('#unique',len(np.unique(w_in.data.cpu().flatten().numpy())))\n",
        "print('#unique',len(np.unique(w_approx.data.cpu().flatten().numpy())))"
      ]
    },
    {
      "cell_type": "markdown",
      "metadata": {
        "id": "w2riL-ZFcjUB"
      },
      "source": [
        "To effectively train a network with weight quantisation, it is important to only use the ternary weights during forward/backward path, but update their gradients in full precision.\n",
        "\n",
        "Implement a loop that stores full precision weights in a list of tensors and replaces the `.data` values with their approximation just before calling the forward pass (and zero_grad).\n",
        "Reassign these backup copies after `loss.backward()` and `before optimizer.step()`. Retrain your network and take care to perform the weight quantisation the same way during test evaluation. The test accuracy should be around 85-90% during the epochs.\n",
        "\n",
        "**Tip:** you could use `.pop(0)` to (iteratively) access and remove the first object of a list."
      ]
    },
    {
      "cell_type": "code",
      "execution_count": null,
      "metadata": {
        "id": "HnyU-fjIcjUB"
      },
      "outputs": [],
      "source": [
        "# todo"
      ]
    }
  ],
  "metadata": {
    "accelerator": "GPU",
    "colab": {
      "provenance": [],
      "include_colab_link": true
    },
    "kernelspec": {
      "display_name": "Python 3 (ipykernel)",
      "language": "python",
      "name": "python3"
    },
    "language_info": {
      "codemirror_mode": {
        "name": "ipython",
        "version": 3
      },
      "file_extension": ".py",
      "mimetype": "text/x-python",
      "name": "python",
      "nbconvert_exporter": "python",
      "pygments_lexer": "ipython3",
      "version": "3.9.16"
    },
    "widgets": {
      "application/vnd.jupyter.widget-state+json": {
        "defe72ada60243b09d430fb50808a9ed": {
          "model_module": "@jupyter-widgets/controls",
          "model_name": "HBoxModel",
          "model_module_version": "1.5.0",
          "state": {
            "_dom_classes": [],
            "_model_module": "@jupyter-widgets/controls",
            "_model_module_version": "1.5.0",
            "_model_name": "HBoxModel",
            "_view_count": null,
            "_view_module": "@jupyter-widgets/controls",
            "_view_module_version": "1.5.0",
            "_view_name": "HBoxView",
            "box_style": "",
            "children": [
              "IPY_MODEL_8f82921cd4c24ffcb4be7ba85c622c18",
              "IPY_MODEL_141304a87af44b6e8ef77ca2ece4f655",
              "IPY_MODEL_b812feca6ae54662b7797cfb9e4e5728"
            ],
            "layout": "IPY_MODEL_48d14f23003344d9954de7cad7c3c2b2"
          }
        },
        "8f82921cd4c24ffcb4be7ba85c622c18": {
          "model_module": "@jupyter-widgets/controls",
          "model_name": "HTMLModel",
          "model_module_version": "1.5.0",
          "state": {
            "_dom_classes": [],
            "_model_module": "@jupyter-widgets/controls",
            "_model_module_version": "1.5.0",
            "_model_name": "HTMLModel",
            "_view_count": null,
            "_view_module": "@jupyter-widgets/controls",
            "_view_module_version": "1.5.0",
            "_view_name": "HTMLView",
            "description": "",
            "description_tooltip": null,
            "layout": "IPY_MODEL_911357ea8f874a04be0e9305e62c7ae8",
            "placeholder": "​",
            "style": "IPY_MODEL_d38eabb6e8f641ff9053a6c4fbd14ca8",
            "value": "100%"
          }
        },
        "141304a87af44b6e8ef77ca2ece4f655": {
          "model_module": "@jupyter-widgets/controls",
          "model_name": "FloatProgressModel",
          "model_module_version": "1.5.0",
          "state": {
            "_dom_classes": [],
            "_model_module": "@jupyter-widgets/controls",
            "_model_module_version": "1.5.0",
            "_model_name": "FloatProgressModel",
            "_view_count": null,
            "_view_module": "@jupyter-widgets/controls",
            "_view_module_version": "1.5.0",
            "_view_name": "ProgressView",
            "bar_style": "success",
            "description": "",
            "description_tooltip": null,
            "layout": "IPY_MODEL_85189c1462e04be2aca0c0e9c0de1478",
            "max": 16,
            "min": 0,
            "orientation": "horizontal",
            "style": "IPY_MODEL_3211c61309fb4d61be9ad6d870dcb967",
            "value": 16
          }
        },
        "b812feca6ae54662b7797cfb9e4e5728": {
          "model_module": "@jupyter-widgets/controls",
          "model_name": "HTMLModel",
          "model_module_version": "1.5.0",
          "state": {
            "_dom_classes": [],
            "_model_module": "@jupyter-widgets/controls",
            "_model_module_version": "1.5.0",
            "_model_name": "HTMLModel",
            "_view_count": null,
            "_view_module": "@jupyter-widgets/controls",
            "_view_module_version": "1.5.0",
            "_view_name": "HTMLView",
            "description": "",
            "description_tooltip": null,
            "layout": "IPY_MODEL_f5f487f402504486ba0cf4363a14754f",
            "placeholder": "​",
            "style": "IPY_MODEL_1d214740a5a44cd19068e58bdf7f5b20",
            "value": " 16/16 [02:41&lt;00:00,  9.92s/epoch]"
          }
        },
        "48d14f23003344d9954de7cad7c3c2b2": {
          "model_module": "@jupyter-widgets/base",
          "model_name": "LayoutModel",
          "model_module_version": "1.2.0",
          "state": {
            "_model_module": "@jupyter-widgets/base",
            "_model_module_version": "1.2.0",
            "_model_name": "LayoutModel",
            "_view_count": null,
            "_view_module": "@jupyter-widgets/base",
            "_view_module_version": "1.2.0",
            "_view_name": "LayoutView",
            "align_content": null,
            "align_items": null,
            "align_self": null,
            "border": null,
            "bottom": null,
            "display": null,
            "flex": null,
            "flex_flow": null,
            "grid_area": null,
            "grid_auto_columns": null,
            "grid_auto_flow": null,
            "grid_auto_rows": null,
            "grid_column": null,
            "grid_gap": null,
            "grid_row": null,
            "grid_template_areas": null,
            "grid_template_columns": null,
            "grid_template_rows": null,
            "height": null,
            "justify_content": null,
            "justify_items": null,
            "left": null,
            "margin": null,
            "max_height": null,
            "max_width": null,
            "min_height": null,
            "min_width": null,
            "object_fit": null,
            "object_position": null,
            "order": null,
            "overflow": null,
            "overflow_x": null,
            "overflow_y": null,
            "padding": null,
            "right": null,
            "top": null,
            "visibility": null,
            "width": null
          }
        },
        "911357ea8f874a04be0e9305e62c7ae8": {
          "model_module": "@jupyter-widgets/base",
          "model_name": "LayoutModel",
          "model_module_version": "1.2.0",
          "state": {
            "_model_module": "@jupyter-widgets/base",
            "_model_module_version": "1.2.0",
            "_model_name": "LayoutModel",
            "_view_count": null,
            "_view_module": "@jupyter-widgets/base",
            "_view_module_version": "1.2.0",
            "_view_name": "LayoutView",
            "align_content": null,
            "align_items": null,
            "align_self": null,
            "border": null,
            "bottom": null,
            "display": null,
            "flex": null,
            "flex_flow": null,
            "grid_area": null,
            "grid_auto_columns": null,
            "grid_auto_flow": null,
            "grid_auto_rows": null,
            "grid_column": null,
            "grid_gap": null,
            "grid_row": null,
            "grid_template_areas": null,
            "grid_template_columns": null,
            "grid_template_rows": null,
            "height": null,
            "justify_content": null,
            "justify_items": null,
            "left": null,
            "margin": null,
            "max_height": null,
            "max_width": null,
            "min_height": null,
            "min_width": null,
            "object_fit": null,
            "object_position": null,
            "order": null,
            "overflow": null,
            "overflow_x": null,
            "overflow_y": null,
            "padding": null,
            "right": null,
            "top": null,
            "visibility": null,
            "width": null
          }
        },
        "d38eabb6e8f641ff9053a6c4fbd14ca8": {
          "model_module": "@jupyter-widgets/controls",
          "model_name": "DescriptionStyleModel",
          "model_module_version": "1.5.0",
          "state": {
            "_model_module": "@jupyter-widgets/controls",
            "_model_module_version": "1.5.0",
            "_model_name": "DescriptionStyleModel",
            "_view_count": null,
            "_view_module": "@jupyter-widgets/base",
            "_view_module_version": "1.2.0",
            "_view_name": "StyleView",
            "description_width": ""
          }
        },
        "85189c1462e04be2aca0c0e9c0de1478": {
          "model_module": "@jupyter-widgets/base",
          "model_name": "LayoutModel",
          "model_module_version": "1.2.0",
          "state": {
            "_model_module": "@jupyter-widgets/base",
            "_model_module_version": "1.2.0",
            "_model_name": "LayoutModel",
            "_view_count": null,
            "_view_module": "@jupyter-widgets/base",
            "_view_module_version": "1.2.0",
            "_view_name": "LayoutView",
            "align_content": null,
            "align_items": null,
            "align_self": null,
            "border": null,
            "bottom": null,
            "display": null,
            "flex": null,
            "flex_flow": null,
            "grid_area": null,
            "grid_auto_columns": null,
            "grid_auto_flow": null,
            "grid_auto_rows": null,
            "grid_column": null,
            "grid_gap": null,
            "grid_row": null,
            "grid_template_areas": null,
            "grid_template_columns": null,
            "grid_template_rows": null,
            "height": null,
            "justify_content": null,
            "justify_items": null,
            "left": null,
            "margin": null,
            "max_height": null,
            "max_width": null,
            "min_height": null,
            "min_width": null,
            "object_fit": null,
            "object_position": null,
            "order": null,
            "overflow": null,
            "overflow_x": null,
            "overflow_y": null,
            "padding": null,
            "right": null,
            "top": null,
            "visibility": null,
            "width": null
          }
        },
        "3211c61309fb4d61be9ad6d870dcb967": {
          "model_module": "@jupyter-widgets/controls",
          "model_name": "ProgressStyleModel",
          "model_module_version": "1.5.0",
          "state": {
            "_model_module": "@jupyter-widgets/controls",
            "_model_module_version": "1.5.0",
            "_model_name": "ProgressStyleModel",
            "_view_count": null,
            "_view_module": "@jupyter-widgets/base",
            "_view_module_version": "1.2.0",
            "_view_name": "StyleView",
            "bar_color": null,
            "description_width": ""
          }
        },
        "f5f487f402504486ba0cf4363a14754f": {
          "model_module": "@jupyter-widgets/base",
          "model_name": "LayoutModel",
          "model_module_version": "1.2.0",
          "state": {
            "_model_module": "@jupyter-widgets/base",
            "_model_module_version": "1.2.0",
            "_model_name": "LayoutModel",
            "_view_count": null,
            "_view_module": "@jupyter-widgets/base",
            "_view_module_version": "1.2.0",
            "_view_name": "LayoutView",
            "align_content": null,
            "align_items": null,
            "align_self": null,
            "border": null,
            "bottom": null,
            "display": null,
            "flex": null,
            "flex_flow": null,
            "grid_area": null,
            "grid_auto_columns": null,
            "grid_auto_flow": null,
            "grid_auto_rows": null,
            "grid_column": null,
            "grid_gap": null,
            "grid_row": null,
            "grid_template_areas": null,
            "grid_template_columns": null,
            "grid_template_rows": null,
            "height": null,
            "justify_content": null,
            "justify_items": null,
            "left": null,
            "margin": null,
            "max_height": null,
            "max_width": null,
            "min_height": null,
            "min_width": null,
            "object_fit": null,
            "object_position": null,
            "order": null,
            "overflow": null,
            "overflow_x": null,
            "overflow_y": null,
            "padding": null,
            "right": null,
            "top": null,
            "visibility": null,
            "width": null
          }
        },
        "1d214740a5a44cd19068e58bdf7f5b20": {
          "model_module": "@jupyter-widgets/controls",
          "model_name": "DescriptionStyleModel",
          "model_module_version": "1.5.0",
          "state": {
            "_model_module": "@jupyter-widgets/controls",
            "_model_module_version": "1.5.0",
            "_model_name": "DescriptionStyleModel",
            "_view_count": null,
            "_view_module": "@jupyter-widgets/base",
            "_view_module_version": "1.2.0",
            "_view_name": "StyleView",
            "description_width": ""
          }
        },
        "9631ec5b61904d7983ce32cc126b34be": {
          "model_module": "@jupyter-widgets/controls",
          "model_name": "HBoxModel",
          "model_module_version": "1.5.0",
          "state": {
            "_dom_classes": [],
            "_model_module": "@jupyter-widgets/controls",
            "_model_module_version": "1.5.0",
            "_model_name": "HBoxModel",
            "_view_count": null,
            "_view_module": "@jupyter-widgets/controls",
            "_view_module_version": "1.5.0",
            "_view_name": "HBoxView",
            "box_style": "",
            "children": [
              "IPY_MODEL_bfdbb42c31ef479ab4edb169d81053de",
              "IPY_MODEL_355c2e5686754cae83ff42978ce34862",
              "IPY_MODEL_51f314ad9df647f682015031dd3ef4a6"
            ],
            "layout": "IPY_MODEL_5c953bcbb93745f890650e7a9f999601"
          }
        },
        "bfdbb42c31ef479ab4edb169d81053de": {
          "model_module": "@jupyter-widgets/controls",
          "model_name": "HTMLModel",
          "model_module_version": "1.5.0",
          "state": {
            "_dom_classes": [],
            "_model_module": "@jupyter-widgets/controls",
            "_model_module_version": "1.5.0",
            "_model_name": "HTMLModel",
            "_view_count": null,
            "_view_module": "@jupyter-widgets/controls",
            "_view_module_version": "1.5.0",
            "_view_name": "HTMLView",
            "description": "",
            "description_tooltip": null,
            "layout": "IPY_MODEL_032ddc1feb104aecbd24e2193dcaaedf",
            "placeholder": "​",
            "style": "IPY_MODEL_e45c62fc05964a3a8cd9b8f2c8a141d4",
            "value": "100%"
          }
        },
        "355c2e5686754cae83ff42978ce34862": {
          "model_module": "@jupyter-widgets/controls",
          "model_name": "FloatProgressModel",
          "model_module_version": "1.5.0",
          "state": {
            "_dom_classes": [],
            "_model_module": "@jupyter-widgets/controls",
            "_model_module_version": "1.5.0",
            "_model_name": "FloatProgressModel",
            "_view_count": null,
            "_view_module": "@jupyter-widgets/controls",
            "_view_module_version": "1.5.0",
            "_view_name": "ProgressView",
            "bar_style": "success",
            "description": "",
            "description_tooltip": null,
            "layout": "IPY_MODEL_b2be787a5a93446394bf59f1ffe05434",
            "max": 16,
            "min": 0,
            "orientation": "horizontal",
            "style": "IPY_MODEL_c8e3e4336cf642a2a14b8de535234031",
            "value": 16
          }
        },
        "51f314ad9df647f682015031dd3ef4a6": {
          "model_module": "@jupyter-widgets/controls",
          "model_name": "HTMLModel",
          "model_module_version": "1.5.0",
          "state": {
            "_dom_classes": [],
            "_model_module": "@jupyter-widgets/controls",
            "_model_module_version": "1.5.0",
            "_model_name": "HTMLModel",
            "_view_count": null,
            "_view_module": "@jupyter-widgets/controls",
            "_view_module_version": "1.5.0",
            "_view_name": "HTMLView",
            "description": "",
            "description_tooltip": null,
            "layout": "IPY_MODEL_e295ae2d4a2c47de9f901c41067d3d2f",
            "placeholder": "​",
            "style": "IPY_MODEL_e6f45dea57e44d62bf0088c782b4aa71",
            "value": " 16/16 [02:42&lt;00:00, 10.02s/epoch]"
          }
        },
        "5c953bcbb93745f890650e7a9f999601": {
          "model_module": "@jupyter-widgets/base",
          "model_name": "LayoutModel",
          "model_module_version": "1.2.0",
          "state": {
            "_model_module": "@jupyter-widgets/base",
            "_model_module_version": "1.2.0",
            "_model_name": "LayoutModel",
            "_view_count": null,
            "_view_module": "@jupyter-widgets/base",
            "_view_module_version": "1.2.0",
            "_view_name": "LayoutView",
            "align_content": null,
            "align_items": null,
            "align_self": null,
            "border": null,
            "bottom": null,
            "display": null,
            "flex": null,
            "flex_flow": null,
            "grid_area": null,
            "grid_auto_columns": null,
            "grid_auto_flow": null,
            "grid_auto_rows": null,
            "grid_column": null,
            "grid_gap": null,
            "grid_row": null,
            "grid_template_areas": null,
            "grid_template_columns": null,
            "grid_template_rows": null,
            "height": null,
            "justify_content": null,
            "justify_items": null,
            "left": null,
            "margin": null,
            "max_height": null,
            "max_width": null,
            "min_height": null,
            "min_width": null,
            "object_fit": null,
            "object_position": null,
            "order": null,
            "overflow": null,
            "overflow_x": null,
            "overflow_y": null,
            "padding": null,
            "right": null,
            "top": null,
            "visibility": null,
            "width": null
          }
        },
        "032ddc1feb104aecbd24e2193dcaaedf": {
          "model_module": "@jupyter-widgets/base",
          "model_name": "LayoutModel",
          "model_module_version": "1.2.0",
          "state": {
            "_model_module": "@jupyter-widgets/base",
            "_model_module_version": "1.2.0",
            "_model_name": "LayoutModel",
            "_view_count": null,
            "_view_module": "@jupyter-widgets/base",
            "_view_module_version": "1.2.0",
            "_view_name": "LayoutView",
            "align_content": null,
            "align_items": null,
            "align_self": null,
            "border": null,
            "bottom": null,
            "display": null,
            "flex": null,
            "flex_flow": null,
            "grid_area": null,
            "grid_auto_columns": null,
            "grid_auto_flow": null,
            "grid_auto_rows": null,
            "grid_column": null,
            "grid_gap": null,
            "grid_row": null,
            "grid_template_areas": null,
            "grid_template_columns": null,
            "grid_template_rows": null,
            "height": null,
            "justify_content": null,
            "justify_items": null,
            "left": null,
            "margin": null,
            "max_height": null,
            "max_width": null,
            "min_height": null,
            "min_width": null,
            "object_fit": null,
            "object_position": null,
            "order": null,
            "overflow": null,
            "overflow_x": null,
            "overflow_y": null,
            "padding": null,
            "right": null,
            "top": null,
            "visibility": null,
            "width": null
          }
        },
        "e45c62fc05964a3a8cd9b8f2c8a141d4": {
          "model_module": "@jupyter-widgets/controls",
          "model_name": "DescriptionStyleModel",
          "model_module_version": "1.5.0",
          "state": {
            "_model_module": "@jupyter-widgets/controls",
            "_model_module_version": "1.5.0",
            "_model_name": "DescriptionStyleModel",
            "_view_count": null,
            "_view_module": "@jupyter-widgets/base",
            "_view_module_version": "1.2.0",
            "_view_name": "StyleView",
            "description_width": ""
          }
        },
        "b2be787a5a93446394bf59f1ffe05434": {
          "model_module": "@jupyter-widgets/base",
          "model_name": "LayoutModel",
          "model_module_version": "1.2.0",
          "state": {
            "_model_module": "@jupyter-widgets/base",
            "_model_module_version": "1.2.0",
            "_model_name": "LayoutModel",
            "_view_count": null,
            "_view_module": "@jupyter-widgets/base",
            "_view_module_version": "1.2.0",
            "_view_name": "LayoutView",
            "align_content": null,
            "align_items": null,
            "align_self": null,
            "border": null,
            "bottom": null,
            "display": null,
            "flex": null,
            "flex_flow": null,
            "grid_area": null,
            "grid_auto_columns": null,
            "grid_auto_flow": null,
            "grid_auto_rows": null,
            "grid_column": null,
            "grid_gap": null,
            "grid_row": null,
            "grid_template_areas": null,
            "grid_template_columns": null,
            "grid_template_rows": null,
            "height": null,
            "justify_content": null,
            "justify_items": null,
            "left": null,
            "margin": null,
            "max_height": null,
            "max_width": null,
            "min_height": null,
            "min_width": null,
            "object_fit": null,
            "object_position": null,
            "order": null,
            "overflow": null,
            "overflow_x": null,
            "overflow_y": null,
            "padding": null,
            "right": null,
            "top": null,
            "visibility": null,
            "width": null
          }
        },
        "c8e3e4336cf642a2a14b8de535234031": {
          "model_module": "@jupyter-widgets/controls",
          "model_name": "ProgressStyleModel",
          "model_module_version": "1.5.0",
          "state": {
            "_model_module": "@jupyter-widgets/controls",
            "_model_module_version": "1.5.0",
            "_model_name": "ProgressStyleModel",
            "_view_count": null,
            "_view_module": "@jupyter-widgets/base",
            "_view_module_version": "1.2.0",
            "_view_name": "StyleView",
            "bar_color": null,
            "description_width": ""
          }
        },
        "e295ae2d4a2c47de9f901c41067d3d2f": {
          "model_module": "@jupyter-widgets/base",
          "model_name": "LayoutModel",
          "model_module_version": "1.2.0",
          "state": {
            "_model_module": "@jupyter-widgets/base",
            "_model_module_version": "1.2.0",
            "_model_name": "LayoutModel",
            "_view_count": null,
            "_view_module": "@jupyter-widgets/base",
            "_view_module_version": "1.2.0",
            "_view_name": "LayoutView",
            "align_content": null,
            "align_items": null,
            "align_self": null,
            "border": null,
            "bottom": null,
            "display": null,
            "flex": null,
            "flex_flow": null,
            "grid_area": null,
            "grid_auto_columns": null,
            "grid_auto_flow": null,
            "grid_auto_rows": null,
            "grid_column": null,
            "grid_gap": null,
            "grid_row": null,
            "grid_template_areas": null,
            "grid_template_columns": null,
            "grid_template_rows": null,
            "height": null,
            "justify_content": null,
            "justify_items": null,
            "left": null,
            "margin": null,
            "max_height": null,
            "max_width": null,
            "min_height": null,
            "min_width": null,
            "object_fit": null,
            "object_position": null,
            "order": null,
            "overflow": null,
            "overflow_x": null,
            "overflow_y": null,
            "padding": null,
            "right": null,
            "top": null,
            "visibility": null,
            "width": null
          }
        },
        "e6f45dea57e44d62bf0088c782b4aa71": {
          "model_module": "@jupyter-widgets/controls",
          "model_name": "DescriptionStyleModel",
          "model_module_version": "1.5.0",
          "state": {
            "_model_module": "@jupyter-widgets/controls",
            "_model_module_version": "1.5.0",
            "_model_name": "DescriptionStyleModel",
            "_view_count": null,
            "_view_module": "@jupyter-widgets/base",
            "_view_module_version": "1.2.0",
            "_view_name": "StyleView",
            "description_width": ""
          }
        }
      }
    }
  },
  "nbformat": 4,
  "nbformat_minor": 0
}