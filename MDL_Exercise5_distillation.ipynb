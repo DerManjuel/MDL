{
  "cells": [
    {
      "cell_type": "markdown",
      "metadata": {
        "id": "view-in-github",
        "colab_type": "text"
      },
      "source": [
        "<a href=\"https://colab.research.google.com/github/DerManjuel/MDL/blob/main/MDL_Exercise5_distillation.ipynb\" target=\"_parent\"><img src=\"https://colab.research.google.com/assets/colab-badge.svg\" alt=\"Open In Colab\"/></a>"
      ]
    },
    {
      "cell_type": "markdown",
      "metadata": {
        "id": "2QN-sTuocjS_"
      },
      "source": [
        "# Medical Deep Learning\n",
        "## Exercise 5: Model Distillation & Ternary Nets\n",
        "\n",
        "The goal of this exercise is to implement methods that allow to compress deep learning models via model distillation and ternary weights. This enables the use of deep learning in medicine due to its real-time ability and implementation on weaker mobile devices."
      ]
    },
    {
      "cell_type": "code",
      "source": [
        "# Set the device\n",
        "if torch.backends.mps.is_available():\n",
        "    device = \"mps\"\n",
        "else:\n",
        "    device = \"cuda\"\n",
        "print(device)"
      ],
      "metadata": {
        "id": "IK234fJ1iL37",
        "outputId": "7149ce1b-0f4c-4c20-8f7a-480d0910de7a",
        "colab": {
          "base_uri": "https://localhost:8080/"
        }
      },
      "execution_count": 11,
      "outputs": [
        {
          "output_type": "stream",
          "name": "stdout",
          "text": [
            "cuda\n"
          ]
        }
      ]
    },
    {
      "cell_type": "code",
      "execution_count": 1,
      "metadata": {
        "colab": {
          "base_uri": "https://localhost:8080/"
        },
        "id": "sRUWE-KitK2d",
        "outputId": "fb42eb1a-00e1-4d0a-923e-bcfa4e5ac05d"
      },
      "outputs": [
        {
          "output_type": "stream",
          "name": "stdout",
          "text": [
            "Looking in indexes: https://pypi.org/simple, https://us-python.pkg.dev/colab-wheels/public/simple/\n",
            "Collecting onnx\n",
            "  Downloading onnx-1.14.0-cp310-cp310-manylinux_2_17_x86_64.manylinux2014_x86_64.whl (14.6 MB)\n",
            "\u001b[2K     \u001b[90m━━━━━━━━━━━━━━━━━━━━━━━━━━━━━━━━━━━━━━━━\u001b[0m \u001b[32m14.6/14.6 MB\u001b[0m \u001b[31m97.9 MB/s\u001b[0m eta \u001b[36m0:00:00\u001b[0m\n",
            "\u001b[?25hCollecting wget\n",
            "  Downloading wget-3.2.zip (10 kB)\n",
            "  Preparing metadata (setup.py) ... \u001b[?25l\u001b[?25hdone\n",
            "Requirement already satisfied: numpy in /usr/local/lib/python3.10/dist-packages (from onnx) (1.22.4)\n",
            "Requirement already satisfied: protobuf>=3.20.2 in /usr/local/lib/python3.10/dist-packages (from onnx) (3.20.3)\n",
            "Requirement already satisfied: typing-extensions>=3.6.2.1 in /usr/local/lib/python3.10/dist-packages (from onnx) (4.5.0)\n",
            "Building wheels for collected packages: wget\n",
            "  Building wheel for wget (setup.py) ... \u001b[?25l\u001b[?25hdone\n",
            "  Created wheel for wget: filename=wget-3.2-py3-none-any.whl size=9657 sha256=cd490013ab7946eee3a798bcf69dee807b29707735c66701398f0f9001ff254e\n",
            "  Stored in directory: /root/.cache/pip/wheels/8b/f1/7f/5c94f0a7a505ca1c81cd1d9208ae2064675d97582078e6c769\n",
            "Successfully built wget\n",
            "Installing collected packages: wget, onnx\n",
            "Successfully installed onnx-1.14.0 wget-3.2\n",
            "Looking in indexes: https://pypi.org/simple, https://us-python.pkg.dev/colab-wheels/public/simple/\n",
            "Collecting git+https://github.com/Lyken17/pytorch-OpCounter.git\n",
            "  Cloning https://github.com/Lyken17/pytorch-OpCounter.git to /tmp/pip-req-build-fa5688iw\n",
            "  Running command git clone --filter=blob:none --quiet https://github.com/Lyken17/pytorch-OpCounter.git /tmp/pip-req-build-fa5688iw\n",
            "  Resolved https://github.com/Lyken17/pytorch-OpCounter.git to commit 43c064afb71383501e41eaef9e8c8407265cf77f\n",
            "  Preparing metadata (setup.py) ... \u001b[?25l\u001b[?25hdone\n",
            "Requirement already satisfied: torch in /usr/local/lib/python3.10/dist-packages (from thop==0.1.1.post2306211014) (2.0.1+cu118)\n",
            "Requirement already satisfied: filelock in /usr/local/lib/python3.10/dist-packages (from torch->thop==0.1.1.post2306211014) (3.12.0)\n",
            "Requirement already satisfied: typing-extensions in /usr/local/lib/python3.10/dist-packages (from torch->thop==0.1.1.post2306211014) (4.5.0)\n",
            "Requirement already satisfied: sympy in /usr/local/lib/python3.10/dist-packages (from torch->thop==0.1.1.post2306211014) (1.11.1)\n",
            "Requirement already satisfied: networkx in /usr/local/lib/python3.10/dist-packages (from torch->thop==0.1.1.post2306211014) (3.1)\n",
            "Requirement already satisfied: jinja2 in /usr/local/lib/python3.10/dist-packages (from torch->thop==0.1.1.post2306211014) (3.1.2)\n",
            "Requirement already satisfied: triton==2.0.0 in /usr/local/lib/python3.10/dist-packages (from torch->thop==0.1.1.post2306211014) (2.0.0)\n",
            "Requirement already satisfied: cmake in /usr/local/lib/python3.10/dist-packages (from triton==2.0.0->torch->thop==0.1.1.post2306211014) (3.25.2)\n",
            "Requirement already satisfied: lit in /usr/local/lib/python3.10/dist-packages (from triton==2.0.0->torch->thop==0.1.1.post2306211014) (16.0.5)\n",
            "Requirement already satisfied: MarkupSafe>=2.0 in /usr/local/lib/python3.10/dist-packages (from jinja2->torch->thop==0.1.1.post2306211014) (2.1.2)\n",
            "Requirement already satisfied: mpmath>=0.19 in /usr/local/lib/python3.10/dist-packages (from sympy->torch->thop==0.1.1.post2306211014) (1.3.0)\n",
            "Building wheels for collected packages: thop\n",
            "  Building wheel for thop (setup.py) ... \u001b[?25l\u001b[?25hdone\n",
            "  Created wheel for thop: filename=thop-0.1.1.post2306211014-py3-none-any.whl size=15450 sha256=0078e7efb546ac94278f092e0f5f354e4d5f8081735c04028f04fac38ae7ef2f\n",
            "  Stored in directory: /tmp/pip-ephem-wheel-cache-zfcra6l5/wheels/81/05/62/b91e30674d43a5104e483d8722a9a4df595299f9892d0d3a3e\n",
            "Successfully built thop\n",
            "Installing collected packages: thop\n",
            "Successfully installed thop-0.1.1.post2306211014\n"
          ]
        }
      ],
      "source": [
        "#run pip install for pytorch flop counter before first use\n",
        "!pip install onnx wget\n",
        "!pip install --upgrade git+https://github.com/Lyken17/pytorch-OpCounter.git\n",
        "\n",
        "import torch\n",
        "import torchvision\n",
        "import torch.nn as nn\n",
        "import torch.optim as optim\n",
        "import scipy.io\n",
        "import matplotlib.pyplot as plt\n",
        "import numpy as np\n",
        "import time\n",
        "import shutil,gzip\n",
        "import wget\n",
        "\n",
        "#some functions to count unique parameters and sparsity are provided\n",
        "def countParameters(net):\n",
        "    model_parameters = filter(lambda p: p.requires_grad, net.parameters())\n",
        "    params = sum([p.numel() for p in model_parameters])\n",
        "    return params\n",
        "\n",
        "def countUnique(net):\n",
        "    unique = 0\n",
        "    for m in net.modules():\n",
        "        if(isinstance(m,nn.Conv2d)):\n",
        "            unique += len(np.unique(m.weight.data.cpu().flatten().numpy()))\n",
        "    return unique\n",
        "    #print('#unique',unique)\n",
        "\n",
        "def countSparsity(net):\n",
        "    count_nonzero = 0; count_zero = 0\n",
        "    for m in net.modules():\n",
        "        if(isinstance(m, nn.Conv2d)):\n",
        "            count_nonzero += torch.sum((m.weight.data!=0).float())\n",
        "            count_zero += torch.sum((m.weight.data==0).float())\n",
        "    return count_zero/(count_zero+count_nonzero)\n",
        ""
      ]
    },
    {
      "cell_type": "markdown",
      "metadata": {
        "id": "coxwH5pwcjTg"
      },
      "source": [
        "## Dataset\n",
        "We will use the data of the Patch Camelyon (tupac16) Challenge. It consists of $327\\,680$ color images extracted from histopathologic scans of lymph node sections. The task is to classify the presence of metastatic tissue (global binary labels are given). The images were preprocessed to a spatial dimension of $48\\times48$ and split to 65k for training and 16k for testing images. See [here](https://www.kaggle.com/competitions/histopathologic-cancer-detection/overview) for further details."
      ]
    },
    {
      "cell_type": "code",
      "execution_count": 2,
      "metadata": {
        "id": "0kHfFFKUtcTY"
      },
      "outputs": [],
      "source": [
        "#loading the patch-based wholeslide histopathology data (uint8) and converting it to torch tensors\n",
        "import os\n",
        "\n",
        "dataset_url = 'https://cloud.imi.uni-luebeck.de/s/sjjiReHqSnokJ2n/download'\n",
        "\n",
        "def get_data(data_url):\n",
        "    filename = './patchCamelyon8c.mat'\n",
        "    if not os.path.exists(filename):\n",
        "        filename = wget.download(data_url)\n",
        "\n",
        "get_data(dataset_url)\n",
        "\n",
        "\n",
        "data = scipy.io.loadmat('patchCamelyon8c.mat')\n",
        "\n",
        "img_train = torch.from_numpy(data['img_train'].astype('float32')/255)\n",
        "img_test = torch.from_numpy(data['img_test'].astype('float32')/255)\n",
        "\n",
        "label_train = torch.from_numpy(data['label_train']).long()\n",
        "label_test = torch.from_numpy(data['label_test']).long()"
      ]
    },
    {
      "cell_type": "markdown",
      "metadata": {
        "id": "vfc1vm-AcjTj"
      },
      "source": [
        "Let's visualize an example for the two classes. You can run the cell multiple times, getting each time new random examples."
      ]
    },
    {
      "cell_type": "code",
      "execution_count": 3,
      "metadata": {
        "colab": {
          "base_uri": "https://localhost:8080/",
          "height": 344
        },
        "outputId": "c5635205-8cc0-4597-ca52-10206079d8ff",
        "id": "1Qo6fpgEcjTk"
      },
      "outputs": [
        {
          "output_type": "stream",
          "name": "stdout",
          "text": [
            "index for no metastatic tissue: 43504\n",
            "index for metastatic tissue: 56497\n"
          ]
        },
        {
          "output_type": "display_data",
          "data": {
            "text/plain": [
              "<Figure size 640x480 with 2 Axes>"
            ],
            "image/png": "[encoded data removed]"
          },
          "metadata": {}
        }
      ],
      "source": [
        "fig, [ax1, ax2] = plt.subplots(1, 2)\n",
        "idx_negative = torch.where(label_train.squeeze() == 0)[0]\n",
        "idx_negative = idx_negative[torch.randperm(len(idx_negative))[0]]\n",
        "\n",
        "idx_positive = torch.where(label_train.squeeze() == 1)[0]\n",
        "idx_positive = idx_positive[torch.randperm(len(idx_positive))[0]]\n",
        "\n",
        "print('index for no metastatic tissue:', idx_negative.item())\n",
        "print('index for metastatic tissue:', idx_positive.item())\n",
        "\n",
        "ax1.imshow(img_train[idx_negative].permute(1, 2, 0))\n",
        "ax1.set_title('no metastatic tissue')\n",
        "ax2.imshow(img_train[idx_positive].permute(1, 2, 0))\n",
        "ax2.set_title('metastatic tissue')\n",
        "plt.show()"
      ]
    },
    {
      "cell_type": "markdown",
      "metadata": {
        "id": "Cdj_paAtcjTl"
      },
      "source": [
        "We load a pretrained `VGG11`, inspect its architecture and gather some computational information."
      ]
    },
    {
      "cell_type": "code",
      "execution_count": 5,
      "metadata": {
        "colab": {
          "base_uri": "https://localhost:8080/"
        },
        "id": "VKHf1__JtM6x",
        "outputId": "f6d717e0-63c3-4ce7-f60c-e8a6c9f02ee5"
      },
      "outputs": [
        {
          "output_type": "stream",
          "name": "stdout",
          "text": [
            "Looking in indexes: https://pypi.org/simple, https://us-python.pkg.dev/colab-wheels/public/simple/\n",
            "Collecting torchinfo\n",
            "  Downloading torchinfo-1.8.0-py3-none-any.whl (23 kB)\n",
            "Installing collected packages: torchinfo\n",
            "Successfully installed torchinfo-1.8.0\n"
          ]
        },
        {
          "output_type": "stream",
          "name": "stderr",
          "text": [
            "/usr/local/lib/python3.10/dist-packages/torchvision/models/_utils.py:208: UserWarning: The parameter 'pretrained' is deprecated since 0.13 and may be removed in the future, please use 'weights' instead.\n",
            "  warnings.warn(\n",
            "/usr/local/lib/python3.10/dist-packages/torchvision/models/_utils.py:223: UserWarning: Arguments other than a weight enum or `None` for 'weights' are deprecated since 0.13 and may be removed in the future. The current behavior is equivalent to passing `weights=VGG11_BN_Weights.IMAGENET1K_V1`. You can also use `weights=VGG11_BN_Weights.DEFAULT` to get the most up-to-date weights.\n",
            "  warnings.warn(msg)\n",
            "Downloading: \"https://download.pytorch.org/models/vgg11_bn-6002323d.pth\" to /root/.cache/torch/hub/checkpoints/vgg11_bn-6002323d.pth\n",
            "100%|██████████| 507M/507M [00:07<00:00, 72.4MB/s]\n"
          ]
        },
        {
          "output_type": "execute_result",
          "data": {
            "text/plain": [
              "==========================================================================================\n",
              "Layer (type:depth-idx)                   Output Shape              Param #\n",
              "==========================================================================================\n",
              "VGG                                      [128, 1000]               --\n",
              "├─Sequential: 1-1                        [128, 512, 1, 1]          --\n",
              "│    └─Conv2d: 2-1                       [128, 64, 48, 48]         1,792\n",
              "│    └─BatchNorm2d: 2-2                  [128, 64, 48, 48]         128\n",
              "│    └─ReLU: 2-3                         [128, 64, 48, 48]         --\n",
              "│    └─MaxPool2d: 2-4                    [128, 64, 24, 24]         --\n",
              "│    └─Conv2d: 2-5                       [128, 128, 24, 24]        73,856\n",
              "│    └─BatchNorm2d: 2-6                  [128, 128, 24, 24]        256\n",
              "│    └─ReLU: 2-7                         [128, 128, 24, 24]        --\n",
              "│    └─MaxPool2d: 2-8                    [128, 128, 12, 12]        --\n",
              "│    └─Conv2d: 2-9                       [128, 256, 12, 12]        295,168\n",
              "│    └─BatchNorm2d: 2-10                 [128, 256, 12, 12]        512\n",
              "│    └─ReLU: 2-11                        [128, 256, 12, 12]        --\n",
              "│    └─Conv2d: 2-12                      [128, 256, 12, 12]        590,080\n",
              "│    └─BatchNorm2d: 2-13                 [128, 256, 12, 12]        512\n",
              "│    └─ReLU: 2-14                        [128, 256, 12, 12]        --\n",
              "│    └─MaxPool2d: 2-15                   [128, 256, 6, 6]          --\n",
              "│    └─Conv2d: 2-16                      [128, 512, 6, 6]          1,180,160\n",
              "│    └─BatchNorm2d: 2-17                 [128, 512, 6, 6]          1,024\n",
              "│    └─ReLU: 2-18                        [128, 512, 6, 6]          --\n",
              "│    └─Conv2d: 2-19                      [128, 512, 6, 6]          2,359,808\n",
              "│    └─BatchNorm2d: 2-20                 [128, 512, 6, 6]          1,024\n",
              "│    └─ReLU: 2-21                        [128, 512, 6, 6]          --\n",
              "│    └─MaxPool2d: 2-22                   [128, 512, 3, 3]          --\n",
              "│    └─Conv2d: 2-23                      [128, 512, 3, 3]          2,359,808\n",
              "│    └─BatchNorm2d: 2-24                 [128, 512, 3, 3]          1,024\n",
              "│    └─ReLU: 2-25                        [128, 512, 3, 3]          --\n",
              "│    └─Conv2d: 2-26                      [128, 512, 3, 3]          2,359,808\n",
              "│    └─BatchNorm2d: 2-27                 [128, 512, 3, 3]          1,024\n",
              "│    └─ReLU: 2-28                        [128, 512, 3, 3]          --\n",
              "│    └─MaxPool2d: 2-29                   [128, 512, 1, 1]          --\n",
              "├─AdaptiveAvgPool2d: 1-2                 [128, 512, 7, 7]          --\n",
              "├─Sequential: 1-3                        [128, 1000]               --\n",
              "│    └─Linear: 2-30                      [128, 4096]               102,764,544\n",
              "│    └─ReLU: 2-31                        [128, 4096]               --\n",
              "│    └─Dropout: 2-32                     [128, 4096]               --\n",
              "│    └─Linear: 2-33                      [128, 4096]               16,781,312\n",
              "│    └─ReLU: 2-34                        [128, 4096]               --\n",
              "│    └─Dropout: 2-35                     [128, 4096]               --\n",
              "│    └─Linear: 2-36                      [128, 1000]               4,097,000\n",
              "==========================================================================================\n",
              "Total params: 132,868,840\n",
              "Trainable params: 132,868,840\n",
              "Non-trainable params: 0\n",
              "Total mult-adds (G): 59.87\n",
              "==========================================================================================\n",
              "Input size (MB): 3.54\n",
              "Forward/backward pass size (MB): 707.76\n",
              "Params size (MB): 531.48\n",
              "Estimated Total Size (MB): 1242.78\n",
              "=========================================================================================="
            ]
          },
          "metadata": {},
          "execution_count": 5
        }
      ],
      "source": [
        "#!pip install torchinfo\n",
        "from torchinfo import summary\n",
        "net = torchvision.models.vgg11_bn(pretrained='True')\n",
        "\n",
        "summary(net, (128, 3, 48, 48))"
      ]
    },
    {
      "cell_type": "markdown",
      "metadata": {
        "id": "XfC5stkxcjTv"
      },
      "source": [
        "## Task 0 (15 points): Modify a pretrained VGG11_BN network for the given training data\n",
        "Complete the function below, which returns a VGG11-Net with its architecture modified accordingly to match the tupac16 dataset.\n",
        "+ Replace the layer `net.avgpool` with an adaptive average pool of output size $1\\times1$\n",
        "+ Create a new classifier as `nn.Sequential` with two linear layers ($512\\times256$ and $256\\times2$) including one ReLU and no batch-norm."
      ]
    },
    {
      "cell_type": "code",
      "execution_count": 7,
      "metadata": {
        "id": "8pmjxtAZcjTw"
      },
      "outputs": [],
      "source": [
        "def tupac16_vgg11():\n",
        "    net = torchvision.models.vgg11_bn(pretrained='True')\n",
        "    net.avgpool = nn.AdaptiveAvgPool2d((1, 1))\n",
        "    net.classifier = nn.Sequential(\n",
        "        nn.Linear(512,256),\n",
        "        nn.Linear(256,2),\n",
        "        nn.ReLU() #no batch-norm?\n",
        "    )\n",
        "\n",
        "    return net"
      ]
    },
    {
      "cell_type": "markdown",
      "metadata": {
        "id": "8H5XnIXmcjTy"
      },
      "source": [
        "Check the reduced parameter count using `summary` from `torchinfo`. Your should obtain about $9\\,357\\,826$ parameters."
      ]
    },
    {
      "cell_type": "code",
      "execution_count": 10,
      "metadata": {
        "colab": {
          "base_uri": "https://localhost:8080/"
        },
        "id": "eomZ9IGicjTz",
        "outputId": "04789608-5f05-4ae5-d65b-851475f65a80"
      },
      "outputs": [
        {
          "output_type": "stream",
          "name": "stderr",
          "text": [
            "/usr/local/lib/python3.10/dist-packages/torchvision/models/_utils.py:208: UserWarning: The parameter 'pretrained' is deprecated since 0.13 and may be removed in the future, please use 'weights' instead.\n",
            "  warnings.warn(\n",
            "/usr/local/lib/python3.10/dist-packages/torchvision/models/_utils.py:223: UserWarning: Arguments other than a weight enum or `None` for 'weights' are deprecated since 0.13 and may be removed in the future. The current behavior is equivalent to passing `weights=VGG11_BN_Weights.IMAGENET1K_V1`. You can also use `weights=VGG11_BN_Weights.DEFAULT` to get the most up-to-date weights.\n",
            "  warnings.warn(msg)\n"
          ]
        },
        {
          "output_type": "execute_result",
          "data": {
            "text/plain": [
              "=================================================================\n",
              "Layer (type:depth-idx)                   Param #\n",
              "=================================================================\n",
              "VGG                                      --\n",
              "├─Sequential: 1-1                        --\n",
              "│    └─Conv2d: 2-1                       1,792\n",
              "│    └─BatchNorm2d: 2-2                  128\n",
              "│    └─ReLU: 2-3                         --\n",
              "│    └─MaxPool2d: 2-4                    --\n",
              "│    └─Conv2d: 2-5                       73,856\n",
              "│    └─BatchNorm2d: 2-6                  256\n",
              "│    └─ReLU: 2-7                         --\n",
              "│    └─MaxPool2d: 2-8                    --\n",
              "│    └─Conv2d: 2-9                       295,168\n",
              "│    └─BatchNorm2d: 2-10                 512\n",
              "│    └─ReLU: 2-11                        --\n",
              "│    └─Conv2d: 2-12                      590,080\n",
              "│    └─BatchNorm2d: 2-13                 512\n",
              "│    └─ReLU: 2-14                        --\n",
              "│    └─MaxPool2d: 2-15                   --\n",
              "│    └─Conv2d: 2-16                      1,180,160\n",
              "│    └─BatchNorm2d: 2-17                 1,024\n",
              "│    └─ReLU: 2-18                        --\n",
              "│    └─Conv2d: 2-19                      2,359,808\n",
              "│    └─BatchNorm2d: 2-20                 1,024\n",
              "│    └─ReLU: 2-21                        --\n",
              "│    └─MaxPool2d: 2-22                   --\n",
              "│    └─Conv2d: 2-23                      2,359,808\n",
              "│    └─BatchNorm2d: 2-24                 1,024\n",
              "│    └─ReLU: 2-25                        --\n",
              "│    └─Conv2d: 2-26                      2,359,808\n",
              "│    └─BatchNorm2d: 2-27                 1,024\n",
              "│    └─ReLU: 2-28                        --\n",
              "│    └─MaxPool2d: 2-29                   --\n",
              "├─AdaptiveAvgPool2d: 1-2                 --\n",
              "├─Sequential: 1-3                        --\n",
              "│    └─Linear: 2-30                      131,328\n",
              "│    └─Linear: 2-31                      514\n",
              "│    └─ReLU: 2-32                        --\n",
              "=================================================================\n",
              "Total params: 9,357,826\n",
              "Trainable params: 9,357,826\n",
              "Non-trainable params: 0\n",
              "================================================================="
            ]
          },
          "metadata": {},
          "execution_count": 10
        }
      ],
      "source": [
        "model = tupac16_vgg11()\n",
        "summary(model)"
      ]
    },
    {
      "cell_type": "markdown",
      "metadata": {
        "id": "HVeA6LHccjTz"
      },
      "source": [
        "## Task1 (25 points): Fine tuning\n",
        "Fine-tune this network for 16 sub-epochs on the tupac16 dataset. One sub-epoch is defined as a random quarter of the training pathes. Use `torch.randperm` to generate the needed indices for every epoch. The batch size should be 128. Choose Adam as an optimizer with an initial learning rate of 0.0005 and an exponential learning rate scheduler with `gamma=0.9`. After training, evaluate the model on the test data. It should yield an accuracy about $94\\%$.\n",
        "\n",
        "**Note:** Task 2 and 3 can be performed independently, but you should store each trained network under a new filename (for comparisons). In the following all techniques should only be applied to the feature-part of the network (and not the classifier layers).\n",
        "\n",
        "**Hint**: If you struggle with implementing of the training routine, have a look at the previous exercises."
      ]
    },
    {
      "cell_type": "code",
      "execution_count": 19,
      "metadata": {
        "colab": {
          "base_uri": "https://localhost:8080/",
          "height": 371
        },
        "id": "mqKw4fzMVd4Q",
        "outputId": "b9a21c39-c986-462d-93e3-6ad6cb676869"
      },
      "outputs": [
        {
          "output_type": "error",
          "ename": "AssertionError",
          "evalue": "ignored",
          "traceback": [
            "\u001b[0;31m---------------------------------------------------------------------------\u001b[0m",
            "\u001b[0;31mAssertionError\u001b[0m                            Traceback (most recent call last)",
            "\u001b[0;32m<ipython-input-19-3a0a6bedf2f2>\u001b[0m in \u001b[0;36m<cell line: 5>\u001b[0;34m()\u001b[0m\n\u001b[1;32m      3\u001b[0m \u001b[0;32mfrom\u001b[0m \u001b[0mtqdm\u001b[0m\u001b[0;34m.\u001b[0m\u001b[0mnotebook\u001b[0m \u001b[0;32mimport\u001b[0m \u001b[0mtrange\u001b[0m\u001b[0;34m,\u001b[0m \u001b[0mtqdm\u001b[0m\u001b[0;34m\u001b[0m\u001b[0;34m\u001b[0m\u001b[0m\n\u001b[1;32m      4\u001b[0m \u001b[0;34m\u001b[0m\u001b[0m\n\u001b[0;32m----> 5\u001b[0;31m \u001b[0mtest_dataset\u001b[0m \u001b[0;34m=\u001b[0m \u001b[0mTensorDataset\u001b[0m\u001b[0;34m(\u001b[0m\u001b[0mimg_test\u001b[0m\u001b[0;34m,\u001b[0m \u001b[0mlabel_test\u001b[0m\u001b[0;34m)\u001b[0m\u001b[0;34m\u001b[0m\u001b[0;34m\u001b[0m\u001b[0m\n\u001b[0m\u001b[1;32m      6\u001b[0m \u001b[0mdl_test\u001b[0m \u001b[0;34m=\u001b[0m \u001b[0mDataLoader\u001b[0m\u001b[0;34m(\u001b[0m\u001b[0mtest_dataset\u001b[0m\u001b[0;34m,\u001b[0m \u001b[0mbatch_size\u001b[0m\u001b[0;34m=\u001b[0m\u001b[0;36m128\u001b[0m\u001b[0;34m,\u001b[0m \u001b[0mshuffle\u001b[0m\u001b[0;34m=\u001b[0m\u001b[0;32mTrue\u001b[0m\u001b[0;34m)\u001b[0m\u001b[0;34m\u001b[0m\u001b[0;34m\u001b[0m\u001b[0m\n\u001b[1;32m      7\u001b[0m \u001b[0;34m\u001b[0m\u001b[0m\n",
            "\u001b[0;32m/usr/local/lib/python3.10/dist-packages/torch/utils/data/dataset.py\u001b[0m in \u001b[0;36m__init__\u001b[0;34m(self, *tensors)\u001b[0m\n\u001b[1;32m    190\u001b[0m \u001b[0;34m\u001b[0m\u001b[0m\n\u001b[1;32m    191\u001b[0m     \u001b[0;32mdef\u001b[0m \u001b[0m__init__\u001b[0m\u001b[0;34m(\u001b[0m\u001b[0mself\u001b[0m\u001b[0;34m,\u001b[0m \u001b[0;34m*\u001b[0m\u001b[0mtensors\u001b[0m\u001b[0;34m:\u001b[0m \u001b[0mTensor\u001b[0m\u001b[0;34m)\u001b[0m \u001b[0;34m->\u001b[0m \u001b[0;32mNone\u001b[0m\u001b[0;34m:\u001b[0m\u001b[0;34m\u001b[0m\u001b[0;34m\u001b[0m\u001b[0m\n\u001b[0;32m--> 192\u001b[0;31m         \u001b[0;32massert\u001b[0m \u001b[0mall\u001b[0m\u001b[0;34m(\u001b[0m\u001b[0mtensors\u001b[0m\u001b[0;34m[\u001b[0m\u001b[0;36m0\u001b[0m\u001b[0;34m]\u001b[0m\u001b[0;34m.\u001b[0m\u001b[0msize\u001b[0m\u001b[0;34m(\u001b[0m\u001b[0;36m0\u001b[0m\u001b[0;34m)\u001b[0m \u001b[0;34m==\u001b[0m \u001b[0mtensor\u001b[0m\u001b[0;34m.\u001b[0m\u001b[0msize\u001b[0m\u001b[0;34m(\u001b[0m\u001b[0;36m0\u001b[0m\u001b[0;34m)\u001b[0m \u001b[0;32mfor\u001b[0m \u001b[0mtensor\u001b[0m \u001b[0;32min\u001b[0m \u001b[0mtensors\u001b[0m\u001b[0;34m)\u001b[0m\u001b[0;34m,\u001b[0m \u001b[0;34m\"Size mismatch between tensors\"\u001b[0m\u001b[0;34m\u001b[0m\u001b[0;34m\u001b[0m\u001b[0m\n\u001b[0m\u001b[1;32m    193\u001b[0m         \u001b[0mself\u001b[0m\u001b[0;34m.\u001b[0m\u001b[0mtensors\u001b[0m \u001b[0;34m=\u001b[0m \u001b[0mtensors\u001b[0m\u001b[0;34m\u001b[0m\u001b[0;34m\u001b[0m\u001b[0m\n\u001b[1;32m    194\u001b[0m \u001b[0;34m\u001b[0m\u001b[0m\n",
            "\u001b[0;31mAssertionError\u001b[0m: Size mismatch between tensors"
          ]
        }
      ],
      "source": [
        "# Task1 - Training loop # hier war nichts gegeben, hab ich von ex 4 übernommen\n",
        "from torch.utils.data import DataLoader, TensorDataset\n",
        "from tqdm.notebook import trange, tqdm\n",
        "\n",
        "test_dataset = TensorDataset(img_test, label_test)\n",
        "dl_test = DataLoader(test_dataset, batch_size=128, shuffle=True)\n",
        "\n",
        "model.to(device)\n",
        "\n",
        "num_epochs = 16\n",
        "\n",
        "# optimizer\n",
        "optimizer = torch.optim.Adam(model.parameters(), lr= 0.0005)\n",
        "\n",
        "# learning rate scheduler\n",
        "lr_scheduler = torch.optim.lr_scheduler.ExponentialLR(optimizer, gamma=0.9)\n",
        "\n",
        "# criterion\n",
        "criterion = torch.nn.CrossEntropyLoss()\n",
        "\n",
        "# for reproducibility (do not change)\n",
        "torch.manual_seed(0)\n",
        "\n",
        "# statistics\n",
        "train_loss = torch.zeros(num_epochs, device=device)\n",
        "train_acc = torch.zeros_like(train_loss)\n",
        "\n",
        "test_loss = torch.zeros_like(train_loss)\n",
        "test_acc = torch.zeros_like(train_loss)\n",
        "\n",
        "# for num_epochs\n",
        "for epoch in trange(num_epochs, unit='epoch'):\n",
        "\n",
        "    # Generate random indices for a quarter of the training paths\n",
        "    quarter = len(img_train) // 4\n",
        "    indices = torch.randperm(len(img_train))[: quarter]\n",
        "\n",
        "    # Subset the dataset using the generated indices\n",
        "    train_dataset = TensorDataset(img_train, label_train)\n",
        "\n",
        "    subset_dataset = torch.utils.data.Subset(train_dataset, indices)\n",
        "\n",
        "    # Create a data loader for the subset of data\n",
        "    dl_train = DataLoader(subset_dataset, batch_size=128, shuffle=True)\n",
        "    print(len(dl_train))\n",
        "\n",
        "    # train mode\n",
        "    model.train()\n",
        "\n",
        "    # for each mini-batch\n",
        "\n",
        "    for input, target in dl_train:\n",
        "        input = input.to(device)\n",
        "        target = target.to(device)\n",
        "\n",
        "        # zero the parameter gradients\n",
        "        # todo\n",
        "        optimizer.zero_grad()\n",
        "\n",
        "        # forward + backward + optimize\n",
        "        # todo\n",
        "        output = model(input)\n",
        "        loss = criterion(output, target)\n",
        "        loss.backward()\n",
        "        optimizer.step()\n",
        "\n",
        "        # statistics\n",
        "        train_loss[epoch] += loss.detach()\n",
        "        train_acc[epoch] += torch.mean((torch.argmax(output, dim=-1) == target).float())\n",
        "\n",
        "    # update learning rate\n",
        "    # todo\n",
        "    lr_scheduler.step()\n",
        "\n",
        "    train_loss[epoch] /= len(dl_train)\n",
        "    train_acc[epoch] /= len(dl_train)\n",
        "\n",
        "    # output\n",
        "    tqdm.write('Epoch {} (train) -- loss: {:.4f} accuracy: {:.4f}'.format(epoch, train_loss[epoch].item(), train_acc[epoch].item()))\n",
        "\n",
        "    # validate\n",
        "    with torch.no_grad():\n",
        "\n",
        "        # eval mode\n",
        "        model.eval()\n",
        "\n",
        "        # for each mini-batch\n",
        "        for input, target, _ in dl_test:\n",
        "            input = input.to(device)\n",
        "            target = target.to(device)\n",
        "\n",
        "            # forward\n",
        "            # todo\n",
        "            output = model(input)\n",
        "            loss = criterion(output, target)\n",
        "\n",
        "            # statistics\n",
        "            test_loss[epoch] += loss.detach()\n",
        "            test_acc[epoch] += torch.mean((torch.argmax(output, dim=-1) == target).float())\n",
        "\n",
        "        test_loss[epoch] /= len(dl_test)\n",
        "        test_acc[epoch] /= len(dl_test)\n",
        "\n",
        "        # output\n",
        "        tqdm.write('Epoch {} (valid) -- loss: {:.4f} accuracy: {:.4f}'.format(epoch, test_loss[epoch].item(), test_acc[epoch].item()))\n",
        "\n",
        "torch.save(model, ' tupac16_ex1.pt')"
      ]
    },
    {
      "cell_type": "markdown",
      "metadata": {
        "id": "iFs7e-4dcjT0"
      },
      "source": [
        "## Task 2 (60 points): Network Pruning through increased Sparsity\n",
        "+ Start with the same modified, pre-trained (not fine-tuned) vgg11_bn as before by calling your `tupac16_vgg11` method.\n",
        "+ Reuse the training routine from above.\n",
        "+ Add a sparsity promoting L1-loss (sum of absolute values) with a weight factor of 0.04 to the classification loss on the weights and bias of each BatchNorm2d.\n",
        "    + Therefor iterate over all modules of the net using `modules()` and determine the layer type using `isinstance()`\n",
        "+ Retrain the network.\n",
        "+ Evaluate its test accuracy (will drop slightly to ~89%)."
      ]
    },
    {
      "cell_type": "code",
      "execution_count": null,
      "metadata": {
        "id": "nLFzc3vmm-qi"
      },
      "outputs": [],
      "source": [
        "# Task 2\n",
        "\n",
        "# todo"
      ]
    },
    {
      "cell_type": "markdown",
      "metadata": {
        "id": "Wr5wVHyMcjT2"
      },
      "source": [
        "Write a function that determines a threshold for input/output neurons to be set to zero (the ones which have been reduced in absolute value using the sparsity constraint). You can use the function `topk`, which outputs both the values and indices sorted around a chosen quantile/percentile. Here we simply use the median to set 50% of values to zero.\n",
        "\n",
        "When applied correctly (as incoming & outgoing mask) for each Conv2d layer, it reduces the nonzero parameters by ~75% (the first incoming & last outgoing Conv2d are not masked).\n",
        "Note that BatchNorm has four tensors and two index masks have to be applied as follows:\n",
        "\n",
        "`B = A[idx_next,:,:,:][:,idx_prev,:,:]`\n",
        "\n",
        "Now you can replace all Conv2d and BatchNorm2d layers with smaller filters (and copy their weights) so that we have the following sequence of channels: 3, 32, 64, (2x)128, (3x)256, 512.\n",
        "Evaluate the slimmed network (you could observe a slight improvement to ~92%) and confirm that the required computations are reduced to 12 GFlops."
      ]
    },
    {
      "cell_type": "code",
      "execution_count": null,
      "metadata": {
        "id": "y0DMYXwivPPe"
      },
      "outputs": [],
      "source": [
        "# task 2 Network slimming (construct lean filters)\n",
        "\n",
        "sparsity_s = 0.04\n",
        "ternary = False\n",
        "\n",
        "model_name = 'tupac_sparse'\n",
        "\n",
        "net = torch.load(model_name+'_net.pth')\n",
        "\n",
        "net.eval()\n",
        "net.cuda()\n",
        "\n",
        "mask = torch.ones(3).cuda()\n",
        "idx_prev = torch.arange(3).long().cuda()\n",
        "q75 = 0.5\n",
        "print('#params before',countParameters(net.features))\n",
        "print('#features sparsity',countSparsity(net.features))\n",
        "\n",
        "\n",
        "for c in range(len(net.features)-2):\n",
        "    if isinstance(net.features[c], nn.Conv2d):\n",
        "        if(c==25):\n",
        "            q75=1\n",
        "        # todo\n",
        "\n",
        "\n",
        "# evaluation for task 2\n",
        "\n",
        "print('#params after',countParameters(net.features))\n",
        "print('#features sparsity',countSparsity(net.features))\n",
        "\n",
        "idx_epoch = torch.arange(16384).view(128,-1)\n",
        "val_acc = 0\n",
        "\n",
        "for iter in range(idx_epoch.size(1)):\n",
        "    idx_iter = idx_epoch[:,iter]\n",
        "\n",
        "    with torch.no_grad():\n",
        "        #forward path and loss\n",
        "        outputs = net(img_test[idx_iter,:,:,:].cuda())\n",
        "    val_acc += torch.sum((outputs.argmax(1).cpu()==label_test[0,idx_iter]).float())/16384.0\n",
        "\n",
        "print(val_acc)"
      ]
    },
    {
      "cell_type": "markdown",
      "metadata": {
        "id": "VJvTp6YZcjT4"
      },
      "source": [
        "## Bonus Task - Ternary Nets:\n",
        "Start with the same modified, pre-trained (not fine-tuned) vgg11_bn as before. Finally, we want to explore, how the memory storage can be reduced with little loss. Here a ternary weight approximation will be used for which we first estimate a per-channel $\\Delta$ for each weight in Conv2d given the rule-of-thumb below.\n",
        "\n",
        "$\\begin{align}\n",
        "    \\Delta &= \\frac{0.7}{n}\\sum^n_{i=1}|W_i|\\\\\n",
        "    \\tilde{W}_i&=\n",
        "    \\begin{cases}\n",
        "        +1, &\\text{ if } W_i > \\Delta\\\\\n",
        "        0,  &\\text{ if } |W_i| \\leq \\Delta\\\\\n",
        "        -1,  &\\text{ else }\n",
        "    \\end{cases}\\\\\n",
        "    n_\\Delta &= \\sum_i|\\tilde{W}_i|\\\\\n",
        "    \\alpha &= \\frac{1}{n_\\Delta}\\sum_i|\\tilde{W}_i||W_i|\n",
        "\\end{align}$\n",
        "\n",
        "Tip: after calculating the absolute values the mean has to be computed over all but the 0-th dimension.\n",
        "The obtained ternary weights have lost their magnitude, therefore the parameter $\\alpha$ (again per-channel) is computed and multiplied with the weight tensor.\n",
        "\n",
        "Test your function with the check implemented below. For a $128\\times64\\times3\\times3$ kernel the number of unique entries is reduced from more than 70 thousand to just 257 ($2 \\cdot 128 + 1$)."
      ]
    },
    {
      "cell_type": "code",
      "execution_count": null,
      "metadata": {
        "id": "Q4ay90rCv3gi"
      },
      "outputs": [],
      "source": [
        "# template for function in bonus task\n",
        "def approx_weights(w_in,flag=True):\n",
        "    if(flag):\n",
        "        with torch.no_grad():\n",
        "            a,b,c,d = w_in.size()\n",
        "            delta = # todo\n",
        "            alpha = # todo\n",
        "            w_out = # todo\n",
        "    else:\n",
        "        w_out = w_in\n",
        "    return w_out\n",
        "\n",
        "# check the number of unique values before/after ternary approximation\n",
        "w_in = net.features[8].weight.clone().detach()\n",
        "w_approx = approx_weights(w_in,True)\n",
        "print('#unique',len(np.unique(w_in.data.cpu().flatten().numpy())))\n",
        "print('#unique',len(np.unique(w_approx.data.cpu().flatten().numpy())))"
      ]
    },
    {
      "cell_type": "markdown",
      "metadata": {
        "id": "w2riL-ZFcjUB"
      },
      "source": [
        "To effectively train a network with weight quantisation, it is important to only use the ternary weights during forward/backward path, but update their gradients in full precision.\n",
        "\n",
        "Implement a loop that stores full precision weights in a list of tensors and replaces the `.data` values with their approximation just before calling the forward pass (and zero_grad).\n",
        "Reassign these backup copies after `loss.backward()` and `before optimizer.step()`. Retrain your network and take care to perform the weight quantisation the same way during test evaluation. The test accuracy should be around 85-90% during the epochs.\n",
        "\n",
        "**Tip:** you could use `.pop(0)` to (iteratively) access and remove the first object of a list."
      ]
    },
    {
      "cell_type": "code",
      "execution_count": null,
      "metadata": {
        "id": "HnyU-fjIcjUB"
      },
      "outputs": [],
      "source": [
        "# todo"
      ]
    }
  ],
  "metadata": {
    "accelerator": "GPU",
    "colab": {
      "provenance": [],
      "include_colab_link": true
    },
    "kernelspec": {
      "display_name": "Python 3 (ipykernel)",
      "language": "python",
      "name": "python3"
    },
    "language_info": {
      "codemirror_mode": {
        "name": "ipython",
        "version": 3
      },
      "file_extension": ".py",
      "mimetype": "text/x-python",
      "name": "python",
      "nbconvert_exporter": "python",
      "pygments_lexer": "ipython3",
      "version": "3.10.0"
    }
  },
  "nbformat": 4,
  "nbformat_minor": 0
}